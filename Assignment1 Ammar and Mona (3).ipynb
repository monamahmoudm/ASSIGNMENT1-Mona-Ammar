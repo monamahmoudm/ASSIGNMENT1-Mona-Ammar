{
 "cells": [
  {
   "cell_type": "markdown",
   "id": "0432e8dc",
   "metadata": {},
   "source": [
    "Mona Ibrahim-900212749\n",
    "Ammar Abdelwahab-900211803\n",
    "This data set contains booking information for a resort hotel, and includes information such as when the booking was made, length of stay, the number of adults, children, and/or babies, among other things.\n",
    "The data is originally from the article Hotel Booking Demand Datasets, written by Nuno Antonio, Ana Almeida, and Luis Nunes for Data in Brief, Volume 22, February 2019. \n",
    "The data was obtained from kaggle, link:https://www.kaggle.com/jessemostipak/hotel-booking-demand\n",
    "Note: Some of the data observations were removed to fit the criteria of the assignment (1000 to 5000 rows)"
   ]
  },
  {
   "cell_type": "markdown",
   "id": "c6fad4af",
   "metadata": {},
   "source": [
    "Question1: For continuous variables, provide the mean, median, quantiles, variance, and standard deviation"
   ]
  },
  {
   "cell_type": "markdown",
   "id": "174896b9",
   "metadata": {},
   "source": [
    "Mean"
   ]
  },
  {
   "cell_type": "code",
   "execution_count": 1,
   "id": "429d8acc",
   "metadata": {},
   "outputs": [],
   "source": [
    "import pandas as pd"
   ]
  },
  {
   "cell_type": "code",
   "execution_count": 2,
   "id": "acd9f907",
   "metadata": {},
   "outputs": [],
   "source": [
    "data = pd.read_csv('C:/Users/Mona/Desktop/hotel_bookings.csv')"
   ]
  },
  {
   "cell_type": "code",
   "execution_count": 10,
   "id": "36c7f85b",
   "metadata": {},
   "outputs": [
    {
     "data": {
      "text/plain": [
       "stays_in_weekend_nights        1.422156\n",
       "stays_in_week_nights           3.724551\n",
       "adults                         1.931138\n",
       "children                       0.245210\n",
       "babies                         0.003593\n",
       "booking_changes                0.174251\n",
       "adr                          105.310904\n",
       "total_of_special_requests      0.550299\n",
       "dtype: float64"
      ]
     },
     "execution_count": 10,
     "metadata": {},
     "output_type": "execute_result"
    }
   ],
   "source": [
    "data[['stays_in_weekend_nights','stays_in_week_nights','adults','children','babies',\n",
    "      'booking_changes','adr','total_of_special_requests']].mean()"
   ]
  },
  {
   "cell_type": "markdown",
   "id": "1f756d0e",
   "metadata": {},
   "source": [
    "Median"
   ]
  },
  {
   "cell_type": "code",
   "execution_count": 11,
   "id": "bfdb8869",
   "metadata": {},
   "outputs": [
    {
     "data": {
      "text/plain": [
       "stays_in_weekend_nights       2.0\n",
       "stays_in_week_nights          3.0\n",
       "adults                        2.0\n",
       "children                      0.0\n",
       "babies                        0.0\n",
       "booking_changes               0.0\n",
       "adr                          85.0\n",
       "total_of_special_requests     0.0\n",
       "dtype: float64"
      ]
     },
     "execution_count": 11,
     "metadata": {},
     "output_type": "execute_result"
    }
   ],
   "source": [
    "data[['stays_in_weekend_nights','stays_in_week_nights','adults','children','babies',\n",
    "      'booking_changes','adr','total_of_special_requests']].median()"
   ]
  },
  {
   "cell_type": "markdown",
   "id": "82f3bafd",
   "metadata": {},
   "source": [
    "Quantiles"
   ]
  },
  {
   "cell_type": "code",
   "execution_count": 12,
   "id": "cdfe516d",
   "metadata": {},
   "outputs": [
    {
     "data": {
      "text/html": [
       "<div>\n",
       "<style scoped>\n",
       "    .dataframe tbody tr th:only-of-type {\n",
       "        vertical-align: middle;\n",
       "    }\n",
       "\n",
       "    .dataframe tbody tr th {\n",
       "        vertical-align: top;\n",
       "    }\n",
       "\n",
       "    .dataframe thead th {\n",
       "        text-align: right;\n",
       "    }\n",
       "</style>\n",
       "<table border=\"1\" class=\"dataframe\">\n",
       "  <thead>\n",
       "    <tr style=\"text-align: right;\">\n",
       "      <th></th>\n",
       "      <th>stays_in_weekend_nights</th>\n",
       "      <th>stays_in_week_nights</th>\n",
       "      <th>adults</th>\n",
       "      <th>children</th>\n",
       "      <th>babies</th>\n",
       "      <th>booking_changes</th>\n",
       "      <th>adr</th>\n",
       "      <th>total_of_special_requests</th>\n",
       "    </tr>\n",
       "  </thead>\n",
       "  <tbody>\n",
       "    <tr>\n",
       "      <th>0.25</th>\n",
       "      <td>0.0</td>\n",
       "      <td>2.0</td>\n",
       "      <td>2.0</td>\n",
       "      <td>0.0</td>\n",
       "      <td>0.0</td>\n",
       "      <td>0.0</td>\n",
       "      <td>58.0000</td>\n",
       "      <td>0.0</td>\n",
       "    </tr>\n",
       "    <tr>\n",
       "      <th>0.75</th>\n",
       "      <td>2.0</td>\n",
       "      <td>5.0</td>\n",
       "      <td>2.0</td>\n",
       "      <td>0.0</td>\n",
       "      <td>0.0</td>\n",
       "      <td>0.0</td>\n",
       "      <td>142.3175</td>\n",
       "      <td>1.0</td>\n",
       "    </tr>\n",
       "  </tbody>\n",
       "</table>\n",
       "</div>"
      ],
      "text/plain": [
       "      stays_in_weekend_nights  stays_in_week_nights  adults  children  babies  \\\n",
       "0.25                      0.0                   2.0     2.0       0.0     0.0   \n",
       "0.75                      2.0                   5.0     2.0       0.0     0.0   \n",
       "\n",
       "      booking_changes       adr  total_of_special_requests  \n",
       "0.25              0.0   58.0000                        0.0  \n",
       "0.75              0.0  142.3175                        1.0  "
      ]
     },
     "execution_count": 12,
     "metadata": {},
     "output_type": "execute_result"
    }
   ],
   "source": [
    "data[['stays_in_weekend_nights','stays_in_week_nights','adults','children','babies',\n",
    "      'booking_changes','adr','total_of_special_requests']].quantile([0.25,0.75])"
   ]
  },
  {
   "cell_type": "markdown",
   "id": "7a04985b",
   "metadata": {},
   "source": [
    "Variance"
   ]
  },
  {
   "cell_type": "code",
   "execution_count": 13,
   "id": "7d013248",
   "metadata": {},
   "outputs": [
    {
     "data": {
      "text/plain": [
       "stays_in_weekend_nights         1.461743\n",
       "stays_in_week_nights            7.618025\n",
       "adults                          0.146200\n",
       "children                        0.371421\n",
       "babies                          0.003581\n",
       "booking_changes                 0.335605\n",
       "adr                          3787.373679\n",
       "total_of_special_requests       0.570994\n",
       "dtype: float64"
      ]
     },
     "execution_count": 13,
     "metadata": {},
     "output_type": "execute_result"
    }
   ],
   "source": [
    "data[['stays_in_weekend_nights','stays_in_week_nights','adults','children','babies',\n",
    "      'booking_changes','adr','total_of_special_requests']].var()"
   ]
  },
  {
   "cell_type": "markdown",
   "id": "90f69d64",
   "metadata": {},
   "source": [
    "Standard Deviation"
   ]
  },
  {
   "cell_type": "code",
   "execution_count": 14,
   "id": "8fdc451c",
   "metadata": {},
   "outputs": [
    {
     "data": {
      "text/plain": [
       "stays_in_weekend_nights       1.209026\n",
       "stays_in_week_nights          2.760077\n",
       "adults                        0.382361\n",
       "children                      0.609443\n",
       "babies                        0.059841\n",
       "booking_changes               0.579314\n",
       "adr                          61.541642\n",
       "total_of_special_requests     0.755642\n",
       "dtype: float64"
      ]
     },
     "execution_count": 14,
     "metadata": {},
     "output_type": "execute_result"
    }
   ],
   "source": [
    "data[['stays_in_weekend_nights','stays_in_week_nights','adults','children','babies',\n",
    "      'booking_changes','adr','total_of_special_requests']].std()"
   ]
  },
  {
   "cell_type": "markdown",
   "id": "66fef5d0",
   "metadata": {},
   "source": [
    "Question2: Compute the most interesting correlations and interpret them"
   ]
  },
  {
   "cell_type": "code",
   "execution_count": 15,
   "id": "74c7ca22",
   "metadata": {},
   "outputs": [
    {
     "data": {
      "text/html": [
       "<div>\n",
       "<style scoped>\n",
       "    .dataframe tbody tr th:only-of-type {\n",
       "        vertical-align: middle;\n",
       "    }\n",
       "\n",
       "    .dataframe tbody tr th {\n",
       "        vertical-align: top;\n",
       "    }\n",
       "\n",
       "    .dataframe thead th {\n",
       "        text-align: right;\n",
       "    }\n",
       "</style>\n",
       "<table border=\"1\" class=\"dataframe\">\n",
       "  <thead>\n",
       "    <tr style=\"text-align: right;\">\n",
       "      <th></th>\n",
       "      <th>adults</th>\n",
       "      <th>adr</th>\n",
       "    </tr>\n",
       "  </thead>\n",
       "  <tbody>\n",
       "    <tr>\n",
       "      <th>adults</th>\n",
       "      <td>1.000000</td>\n",
       "      <td>0.284016</td>\n",
       "    </tr>\n",
       "    <tr>\n",
       "      <th>adr</th>\n",
       "      <td>0.284016</td>\n",
       "      <td>1.000000</td>\n",
       "    </tr>\n",
       "  </tbody>\n",
       "</table>\n",
       "</div>"
      ],
      "text/plain": [
       "          adults       adr\n",
       "adults  1.000000  0.284016\n",
       "adr     0.284016  1.000000"
      ]
     },
     "execution_count": 15,
     "metadata": {},
     "output_type": "execute_result"
    }
   ],
   "source": [
    "data[['adults','adr']].corr(method='pearson')"
   ]
  },
  {
   "cell_type": "markdown",
   "id": "da7de28f",
   "metadata": {},
   "source": [
    "Interpretation: from the results, we can tell that there is a weak positive correlation between the average daily rate and the number of adults. This could suggest that a room is priced regardless of the age of inhabitants."
   ]
  },
  {
   "cell_type": "code",
   "execution_count": 16,
   "id": "26c06814",
   "metadata": {},
   "outputs": [
    {
     "data": {
      "text/html": [
       "<div>\n",
       "<style scoped>\n",
       "    .dataframe tbody tr th:only-of-type {\n",
       "        vertical-align: middle;\n",
       "    }\n",
       "\n",
       "    .dataframe tbody tr th {\n",
       "        vertical-align: top;\n",
       "    }\n",
       "\n",
       "    .dataframe thead th {\n",
       "        text-align: right;\n",
       "    }\n",
       "</style>\n",
       "<table border=\"1\" class=\"dataframe\">\n",
       "  <thead>\n",
       "    <tr style=\"text-align: right;\">\n",
       "      <th></th>\n",
       "      <th>adults</th>\n",
       "      <th>children</th>\n",
       "    </tr>\n",
       "  </thead>\n",
       "  <tbody>\n",
       "    <tr>\n",
       "      <th>adults</th>\n",
       "      <td>1.000000</td>\n",
       "      <td>0.118752</td>\n",
       "    </tr>\n",
       "    <tr>\n",
       "      <th>children</th>\n",
       "      <td>0.118752</td>\n",
       "      <td>1.000000</td>\n",
       "    </tr>\n",
       "  </tbody>\n",
       "</table>\n",
       "</div>"
      ],
      "text/plain": [
       "            adults  children\n",
       "adults    1.000000  0.118752\n",
       "children  0.118752  1.000000"
      ]
     },
     "execution_count": 16,
     "metadata": {},
     "output_type": "execute_result"
    }
   ],
   "source": [
    "data[['adults','children']].corr(method='pearson')"
   ]
  },
  {
   "cell_type": "code",
   "execution_count": 17,
   "id": "4baf8d0d",
   "metadata": {},
   "outputs": [
    {
     "data": {
      "text/html": [
       "<div>\n",
       "<style scoped>\n",
       "    .dataframe tbody tr th:only-of-type {\n",
       "        vertical-align: middle;\n",
       "    }\n",
       "\n",
       "    .dataframe tbody tr th {\n",
       "        vertical-align: top;\n",
       "    }\n",
       "\n",
       "    .dataframe thead th {\n",
       "        text-align: right;\n",
       "    }\n",
       "</style>\n",
       "<table border=\"1\" class=\"dataframe\">\n",
       "  <thead>\n",
       "    <tr style=\"text-align: right;\">\n",
       "      <th></th>\n",
       "      <th>adults</th>\n",
       "      <th>children</th>\n",
       "    </tr>\n",
       "  </thead>\n",
       "  <tbody>\n",
       "    <tr>\n",
       "      <th>adults</th>\n",
       "      <td>1.000000</td>\n",
       "      <td>0.161594</td>\n",
       "    </tr>\n",
       "    <tr>\n",
       "      <th>children</th>\n",
       "      <td>0.161594</td>\n",
       "      <td>1.000000</td>\n",
       "    </tr>\n",
       "  </tbody>\n",
       "</table>\n",
       "</div>"
      ],
      "text/plain": [
       "            adults  children\n",
       "adults    1.000000  0.161594\n",
       "children  0.161594  1.000000"
      ]
     },
     "execution_count": 17,
     "metadata": {},
     "output_type": "execute_result"
    }
   ],
   "source": [
    "data[['adults','children']].corr(method='spearman')"
   ]
  },
  {
   "cell_type": "code",
   "execution_count": 19,
   "id": "1d05d64b",
   "metadata": {},
   "outputs": [
    {
     "data": {
      "text/html": [
       "<div>\n",
       "<style scoped>\n",
       "    .dataframe tbody tr th:only-of-type {\n",
       "        vertical-align: middle;\n",
       "    }\n",
       "\n",
       "    .dataframe tbody tr th {\n",
       "        vertical-align: top;\n",
       "    }\n",
       "\n",
       "    .dataframe thead th {\n",
       "        text-align: right;\n",
       "    }\n",
       "</style>\n",
       "<table border=\"1\" class=\"dataframe\">\n",
       "  <thead>\n",
       "    <tr style=\"text-align: right;\">\n",
       "      <th></th>\n",
       "      <th>adults</th>\n",
       "      <th>children</th>\n",
       "    </tr>\n",
       "  </thead>\n",
       "  <tbody>\n",
       "    <tr>\n",
       "      <th>adults</th>\n",
       "      <td>1.000000</td>\n",
       "      <td>0.155551</td>\n",
       "    </tr>\n",
       "    <tr>\n",
       "      <th>children</th>\n",
       "      <td>0.155551</td>\n",
       "      <td>1.000000</td>\n",
       "    </tr>\n",
       "  </tbody>\n",
       "</table>\n",
       "</div>"
      ],
      "text/plain": [
       "            adults  children\n",
       "adults    1.000000  0.155551\n",
       "children  0.155551  1.000000"
      ]
     },
     "execution_count": 19,
     "metadata": {},
     "output_type": "execute_result"
    }
   ],
   "source": [
    "data[['adults','children']].corr(method='kendall')"
   ]
  },
  {
   "cell_type": "markdown",
   "id": "8c7488c5",
   "metadata": {},
   "source": [
    "Interpretation: Interestingly, there is a very weak positive correlation between the number of adults and number of children, having a value of just 0.11 in Pearson's test and similar numbers in Kendall and Spearman’s tests. This shows that there are children admitted into the hotel without any adults and vice versa. Perhaps this hotel does not have a minimum age of admission."
   ]
  },
  {
   "cell_type": "code",
   "execution_count": 20,
   "id": "a4f11809",
   "metadata": {},
   "outputs": [
    {
     "data": {
      "text/html": [
       "<div>\n",
       "<style scoped>\n",
       "    .dataframe tbody tr th:only-of-type {\n",
       "        vertical-align: middle;\n",
       "    }\n",
       "\n",
       "    .dataframe tbody tr th {\n",
       "        vertical-align: top;\n",
       "    }\n",
       "\n",
       "    .dataframe thead th {\n",
       "        text-align: right;\n",
       "    }\n",
       "</style>\n",
       "<table border=\"1\" class=\"dataframe\">\n",
       "  <thead>\n",
       "    <tr style=\"text-align: right;\">\n",
       "      <th></th>\n",
       "      <th>arrival_date_day_of_month</th>\n",
       "      <th>adr</th>\n",
       "    </tr>\n",
       "  </thead>\n",
       "  <tbody>\n",
       "    <tr>\n",
       "      <th>arrival_date_day_of_month</th>\n",
       "      <td>1.000000</td>\n",
       "      <td>0.085552</td>\n",
       "    </tr>\n",
       "    <tr>\n",
       "      <th>adr</th>\n",
       "      <td>0.085552</td>\n",
       "      <td>1.000000</td>\n",
       "    </tr>\n",
       "  </tbody>\n",
       "</table>\n",
       "</div>"
      ],
      "text/plain": [
       "                           arrival_date_day_of_month       adr\n",
       "arrival_date_day_of_month                   1.000000  0.085552\n",
       "adr                                         0.085552  1.000000"
      ]
     },
     "execution_count": 20,
     "metadata": {},
     "output_type": "execute_result"
    }
   ],
   "source": [
    "data[['arrival_date_day_of_month','adr']].corr(method='pearson')"
   ]
  },
  {
   "cell_type": "markdown",
   "id": "e0d9e163",
   "metadata": {},
   "source": [
    "Interpretation:From doing a Pearson test on the data, it seems there is a very slight correlation between the day a person arrives at the hotel and the rate of the room. This suggests there is no excess demand on any particular day whatsoever, which would be odd for a hotel since this usually happens, especially at larger hotels."
   ]
  },
  {
   "cell_type": "markdown",
   "id": "a6287591",
   "metadata": {},
   "source": [
    "Question3: Describe the discrete variables (frequency, percentages)"
   ]
  },
  {
   "cell_type": "code",
   "execution_count": 21,
   "id": "c3e99b30",
   "metadata": {},
   "outputs": [
    {
     "data": {
      "text/plain": [
       "July        656\n",
       "June        628\n",
       "May         543\n",
       "April       536\n",
       "March       391\n",
       "February    383\n",
       "January     203\n",
       "Name: arrival_date_month, dtype: int64"
      ]
     },
     "execution_count": 21,
     "metadata": {},
     "output_type": "execute_result"
    }
   ],
   "source": [
    "data['arrival_date_month'].value_counts()"
   ]
  },
  {
   "cell_type": "code",
   "execution_count": 22,
   "id": "8e727322",
   "metadata": {},
   "outputs": [
    {
     "data": {
      "text/plain": [
       "July        0.196407\n",
       "June        0.188024\n",
       "May         0.162575\n",
       "April       0.160479\n",
       "March       0.117066\n",
       "February    0.114671\n",
       "January     0.060778\n",
       "Name: arrival_date_month, dtype: float64"
      ]
     },
     "execution_count": 22,
     "metadata": {},
     "output_type": "execute_result"
    }
   ],
   "source": [
    "data['arrival_date_month'].value_counts(normalize=True)"
   ]
  },
  {
   "cell_type": "markdown",
   "id": "4ce9b0b2",
   "metadata": {},
   "source": [
    "Interpretation: This is the frequency of the different months of the year (from January to July) of the dataset. It seems that the most common month for customers to check in is July, holding almost 20% (656) of the total check-ins. This makes sense as July is the time of year where most children get off school for Summer vacation, which would indicate a large number of check-ins, especially for families. The month with the least number of check-ins is January, holding just 6% (203) of the check-ins. Interestingly, the number of check-ins is sorted in reverse order of months. From highest number of check-ins to lowest, we have July June May April March February and January. This could indicate a possible Bell curve, which would mean the data is normally distributed. "
   ]
  },
  {
   "cell_type": "code",
   "execution_count": 23,
   "id": "6891e3f0",
   "metadata": {},
   "outputs": [
    {
     "data": {
      "text/plain": [
       "PRT    0.498351\n",
       "GBR    0.133133\n",
       "ESP    0.086957\n",
       "IRL    0.066267\n",
       "FRA    0.031484\n",
       "DEU    0.022189\n",
       "CHE    0.019790\n",
       "CN     0.015592\n",
       "BRA    0.015292\n",
       "RUS    0.011394\n",
       "NLD    0.010195\n",
       "USA    0.009595\n",
       "ITA    0.009595\n",
       "POL    0.009295\n",
       "BEL    0.008096\n",
       "NOR    0.005397\n",
       "ROU    0.005397\n",
       "SWE    0.003898\n",
       "AUS    0.003898\n",
       "MAR    0.002699\n",
       "FIN    0.002699\n",
       "ISR    0.002399\n",
       "AUT    0.002399\n",
       "LUX    0.002399\n",
       "HUN    0.002099\n",
       "CHN    0.002099\n",
       "ARE    0.001199\n",
       "DNK    0.001199\n",
       "MDV    0.001199\n",
       "EST    0.000900\n",
       "KOR    0.000900\n",
       "SVK    0.000900\n",
       "PAK    0.000600\n",
       "LVA    0.000600\n",
       "COL    0.000600\n",
       "AGO    0.000600\n",
       "ARG    0.000600\n",
       "LBN    0.000600\n",
       "ZAF    0.000600\n",
       "HRV    0.000600\n",
       "CHL    0.000600\n",
       "NGA    0.000600\n",
       "IDN    0.000600\n",
       "SEN    0.000300\n",
       "HKG    0.000300\n",
       "LTU    0.000300\n",
       "SYC    0.000300\n",
       "CYP    0.000300\n",
       "PHL    0.000300\n",
       "MOZ    0.000300\n",
       "SVN    0.000300\n",
       "URY    0.000300\n",
       "KAZ    0.000300\n",
       "FJI    0.000300\n",
       "VEN    0.000300\n",
       "TUR    0.000300\n",
       "DZA    0.000300\n",
       "GIB    0.000300\n",
       "Name: country, dtype: float64"
      ]
     },
     "execution_count": 23,
     "metadata": {},
     "output_type": "execute_result"
    }
   ],
   "source": [
    "data['country'].value_counts(normalize=True)"
   ]
  },
  {
   "cell_type": "code",
   "execution_count": 24,
   "id": "2ed6d29a",
   "metadata": {},
   "outputs": [
    {
     "data": {
      "text/plain": [
       "PRT    1662\n",
       "GBR     444\n",
       "ESP     290\n",
       "IRL     221\n",
       "FRA     105\n",
       "DEU      74\n",
       "CHE      66\n",
       "CN       52\n",
       "BRA      51\n",
       "RUS      38\n",
       "NLD      34\n",
       "USA      32\n",
       "ITA      32\n",
       "POL      31\n",
       "BEL      27\n",
       "NOR      18\n",
       "ROU      18\n",
       "SWE      13\n",
       "AUS      13\n",
       "MAR       9\n",
       "FIN       9\n",
       "ISR       8\n",
       "AUT       8\n",
       "LUX       8\n",
       "HUN       7\n",
       "CHN       7\n",
       "ARE       4\n",
       "DNK       4\n",
       "MDV       4\n",
       "EST       3\n",
       "KOR       3\n",
       "SVK       3\n",
       "PAK       2\n",
       "LVA       2\n",
       "COL       2\n",
       "AGO       2\n",
       "ARG       2\n",
       "LBN       2\n",
       "ZAF       2\n",
       "HRV       2\n",
       "CHL       2\n",
       "NGA       2\n",
       "IDN       2\n",
       "SEN       1\n",
       "HKG       1\n",
       "LTU       1\n",
       "SYC       1\n",
       "CYP       1\n",
       "PHL       1\n",
       "MOZ       1\n",
       "SVN       1\n",
       "URY       1\n",
       "KAZ       1\n",
       "FJI       1\n",
       "VEN       1\n",
       "TUR       1\n",
       "DZA       1\n",
       "GIB       1\n",
       "Name: country, dtype: int64"
      ]
     },
     "execution_count": 24,
     "metadata": {},
     "output_type": "execute_result"
    }
   ],
   "source": [
    "data['country'].value_counts()"
   ]
  },
  {
   "cell_type": "markdown",
   "id": "08b170e4",
   "metadata": {},
   "source": [
    "Interpretation: This result is very interesting. We see that just under half of all check-ins were from people from Portugal, denoted in the dataset at PRT. This probably means the hotel surveyed was from Portugal. Portugal is in the Northern hemisphere, which supports the hypothesis that July has the largest number of check-ins as July is summer in Portugal. The second-highest frequency is GBR, which is Great Britain (the UK). This could be because summers in the UK are much colder than summers in Portugal, which explains why many British tourists are booking in the summers. "
   ]
  },
  {
   "cell_type": "code",
   "execution_count": 25,
   "id": "da2db984",
   "metadata": {},
   "outputs": [
    {
     "data": {
      "text/plain": [
       "48.00     100\n",
       "54.00      78\n",
       "42.00      67\n",
       "60.00      60\n",
       "80.00      58\n",
       "         ... \n",
       "146.57      1\n",
       "133.13      1\n",
       "69.25       1\n",
       "113.60      1\n",
       "89.87       1\n",
       "Name: adr, Length: 851, dtype: int64"
      ]
     },
     "execution_count": 25,
     "metadata": {},
     "output_type": "execute_result"
    }
   ],
   "source": [
    "data['adr'].value_counts()"
   ]
  },
  {
   "cell_type": "code",
   "execution_count": 26,
   "id": "b81f540f",
   "metadata": {},
   "outputs": [
    {
     "data": {
      "text/plain": [
       "363.0"
      ]
     },
     "execution_count": 26,
     "metadata": {},
     "output_type": "execute_result"
    }
   ],
   "source": [
    "data['adr'].max()"
   ]
  },
  {
   "cell_type": "code",
   "execution_count": 27,
   "id": "14ae150a",
   "metadata": {},
   "outputs": [
    {
     "data": {
      "text/plain": [
       "0.0"
      ]
     },
     "execution_count": 27,
     "metadata": {},
     "output_type": "execute_result"
    }
   ],
   "source": [
    "data['adr'].min()"
   ]
  },
  {
   "cell_type": "markdown",
   "id": "fff7c13a",
   "metadata": {},
   "source": [
    "Interpretation: Adr stands for “average daily rate;” the rate of renting one room in the hotel for a day. The description of the data is vague on the units of adr, but since we concluded the dataset to be Portuguese, we can assume the unit is in euro, the national currency of Portugal. There were 100 instances of people paying 48 euros for a night at the hotel, which is a reasonable price. This could suggest the hotel is not an expensive one, though. The maximum price for a night was a whopping 363 euros! This could be a large room rented by a company for multiple employees. The minimum was 0 euros; a free night! Perhaps this was a friend of the manager of the hotel…"
   ]
  },
  {
   "cell_type": "markdown",
   "id": "3bb34562",
   "metadata": {},
   "source": [
    "Question4: Compute the most important contingency tables and perform the independence tests. Provide an interpretation of the results."
   ]
  },
  {
   "cell_type": "code",
   "execution_count": 28,
   "id": "c92c1593",
   "metadata": {},
   "outputs": [
    {
     "data": {
      "text/html": [
       "<div>\n",
       "<style scoped>\n",
       "    .dataframe tbody tr th:only-of-type {\n",
       "        vertical-align: middle;\n",
       "    }\n",
       "\n",
       "    .dataframe tbody tr th {\n",
       "        vertical-align: top;\n",
       "    }\n",
       "\n",
       "    .dataframe thead th {\n",
       "        text-align: right;\n",
       "    }\n",
       "</style>\n",
       "<table border=\"1\" class=\"dataframe\">\n",
       "  <thead>\n",
       "    <tr style=\"text-align: right;\">\n",
       "      <th>deposit_type</th>\n",
       "      <th>No Deposit</th>\n",
       "      <th>Non Refund</th>\n",
       "      <th>Refundable</th>\n",
       "    </tr>\n",
       "    <tr>\n",
       "      <th>reservation_status</th>\n",
       "      <th></th>\n",
       "      <th></th>\n",
       "      <th></th>\n",
       "    </tr>\n",
       "  </thead>\n",
       "  <tbody>\n",
       "    <tr>\n",
       "      <th>Canceled</th>\n",
       "      <td>2936</td>\n",
       "      <td>295</td>\n",
       "      <td>11</td>\n",
       "    </tr>\n",
       "    <tr>\n",
       "      <th>Check-Out</th>\n",
       "      <td>7</td>\n",
       "      <td>0</td>\n",
       "      <td>0</td>\n",
       "    </tr>\n",
       "    <tr>\n",
       "      <th>No-Show</th>\n",
       "      <td>91</td>\n",
       "      <td>0</td>\n",
       "      <td>0</td>\n",
       "    </tr>\n",
       "  </tbody>\n",
       "</table>\n",
       "</div>"
      ],
      "text/plain": [
       "deposit_type        No Deposit  Non Refund  Refundable\n",
       "reservation_status                                    \n",
       "Canceled                  2936         295          11\n",
       "Check-Out                    7           0           0\n",
       "No-Show                     91           0           0"
      ]
     },
     "execution_count": 28,
     "metadata": {},
     "output_type": "execute_result"
    }
   ],
   "source": [
    "pd.crosstab(data['reservation_status'], data['deposit_type'])"
   ]
  },
  {
   "cell_type": "markdown",
   "id": "3d3546c6",
   "metadata": {},
   "source": [
    "Interpretation: Most people who canceled their reservations did not pay a deposit."
   ]
  },
  {
   "cell_type": "code",
   "execution_count": 29,
   "id": "47b963eb",
   "metadata": {},
   "outputs": [
    {
     "name": "stdout",
     "output_type": "stream",
     "text": [
      "Requirement already satisfied: statsmodels in c:\\programdata\\anaconda3\\lib\\site-packages (0.12.2)\n",
      "Requirement already satisfied: numpy>=1.15 in c:\\programdata\\anaconda3\\lib\\site-packages (from statsmodels) (1.20.3)\n",
      "Requirement already satisfied: scipy>=1.1 in c:\\programdata\\anaconda3\\lib\\site-packages (from statsmodels) (1.7.1)\n",
      "Requirement already satisfied: pandas>=0.21 in c:\\programdata\\anaconda3\\lib\\site-packages (from statsmodels) (1.3.4)\n",
      "Requirement already satisfied: patsy>=0.5 in c:\\programdata\\anaconda3\\lib\\site-packages (from statsmodels) (0.5.2)\n",
      "Requirement already satisfied: pytz>=2017.3 in c:\\programdata\\anaconda3\\lib\\site-packages (from pandas>=0.21->statsmodels) (2021.3)\n",
      "Requirement already satisfied: python-dateutil>=2.7.3 in c:\\programdata\\anaconda3\\lib\\site-packages (from pandas>=0.21->statsmodels) (2.8.2)\n",
      "Requirement already satisfied: six in c:\\programdata\\anaconda3\\lib\\site-packages (from patsy>=0.5->statsmodels) (1.16.0)\n"
     ]
    }
   ],
   "source": [
    "!pip install statsmodels"
   ]
  },
  {
   "cell_type": "code",
   "execution_count": 30,
   "id": "0405bad5",
   "metadata": {},
   "outputs": [],
   "source": [
    "import numpy as np"
   ]
  },
  {
   "cell_type": "code",
   "execution_count": 31,
   "id": "7b8d3ffe",
   "metadata": {},
   "outputs": [],
   "source": [
    "import statsmodels.api as sm"
   ]
  },
  {
   "cell_type": "code",
   "execution_count": 32,
   "id": "a97bcbf5",
   "metadata": {},
   "outputs": [],
   "source": [
    "tab=pd.crosstab(data['reservation_status'], data['deposit_type'])"
   ]
  },
  {
   "cell_type": "code",
   "execution_count": 33,
   "id": "d3a8c4a2",
   "metadata": {},
   "outputs": [],
   "source": [
    "table = sm.stats.Table(tab)"
   ]
  },
  {
   "cell_type": "code",
   "execution_count": 34,
   "id": "c2db7fec",
   "metadata": {},
   "outputs": [
    {
     "data": {
      "text/html": [
       "<div>\n",
       "<style scoped>\n",
       "    .dataframe tbody tr th:only-of-type {\n",
       "        vertical-align: middle;\n",
       "    }\n",
       "\n",
       "    .dataframe tbody tr th {\n",
       "        vertical-align: top;\n",
       "    }\n",
       "\n",
       "    .dataframe thead th {\n",
       "        text-align: right;\n",
       "    }\n",
       "</style>\n",
       "<table border=\"1\" class=\"dataframe\">\n",
       "  <thead>\n",
       "    <tr style=\"text-align: right;\">\n",
       "      <th>deposit_type</th>\n",
       "      <th>No Deposit</th>\n",
       "      <th>Non Refund</th>\n",
       "      <th>Refundable</th>\n",
       "    </tr>\n",
       "    <tr>\n",
       "      <th>reservation_status</th>\n",
       "      <th></th>\n",
       "      <th></th>\n",
       "      <th></th>\n",
       "    </tr>\n",
       "  </thead>\n",
       "  <tbody>\n",
       "    <tr>\n",
       "      <th>Canceled</th>\n",
       "      <td>-0.133011</td>\n",
       "      <td>0.463667</td>\n",
       "      <td>-0.187853</td>\n",
       "    </tr>\n",
       "    <tr>\n",
       "      <th>Check-Out</th>\n",
       "      <td>-0.097485</td>\n",
       "      <td>-0.247764</td>\n",
       "      <td>2.780620</td>\n",
       "    </tr>\n",
       "    <tr>\n",
       "      <th>No-Show</th>\n",
       "      <td>0.818334</td>\n",
       "      <td>-2.679383</td>\n",
       "      <td>0.295186</td>\n",
       "    </tr>\n",
       "  </tbody>\n",
       "</table>\n",
       "</div>"
      ],
      "text/plain": [
       "deposit_type        No Deposit  Non Refund  Refundable\n",
       "reservation_status                                    \n",
       "Canceled             -0.133011    0.463667   -0.187853\n",
       "Check-Out            -0.097485   -0.247764    2.780620\n",
       "No-Show               0.818334   -2.679383    0.295186"
      ]
     },
     "execution_count": 34,
     "metadata": {},
     "output_type": "execute_result"
    }
   ],
   "source": [
    "table.resid_pearson"
   ]
  },
  {
   "cell_type": "code",
   "execution_count": 35,
   "id": "db9c57f3",
   "metadata": {},
   "outputs": [],
   "source": [
    "rslt = table.test_nominal_association()"
   ]
  },
  {
   "cell_type": "code",
   "execution_count": 36,
   "id": "074af4ca",
   "metadata": {},
   "outputs": [
    {
     "name": "stdout",
     "output_type": "stream",
     "text": [
      "0.0030103075703735716\n"
     ]
    }
   ],
   "source": [
    "print(rslt.pvalue)"
   ]
  },
  {
   "cell_type": "markdown",
   "id": "669ab8e5",
   "metadata": {},
   "source": [
    "Interpretation: After computing the residuals and the p-value we can conclude that there is a relationship (as p-value is = 0.00301030757 which is less than 0.05)"
   ]
  },
  {
   "cell_type": "code",
   "execution_count": 37,
   "id": "50756ec2",
   "metadata": {},
   "outputs": [
    {
     "data": {
      "text/html": [
       "<div>\n",
       "<style scoped>\n",
       "    .dataframe tbody tr th:only-of-type {\n",
       "        vertical-align: middle;\n",
       "    }\n",
       "\n",
       "    .dataframe tbody tr th {\n",
       "        vertical-align: top;\n",
       "    }\n",
       "\n",
       "    .dataframe thead th {\n",
       "        text-align: right;\n",
       "    }\n",
       "</style>\n",
       "<table border=\"1\" class=\"dataframe\">\n",
       "  <thead>\n",
       "    <tr style=\"text-align: right;\">\n",
       "      <th>customer_type</th>\n",
       "      <th>Contract</th>\n",
       "      <th>Group</th>\n",
       "      <th>Transient</th>\n",
       "      <th>Transient-Party</th>\n",
       "    </tr>\n",
       "    <tr>\n",
       "      <th>arrival_date_month</th>\n",
       "      <th></th>\n",
       "      <th></th>\n",
       "      <th></th>\n",
       "      <th></th>\n",
       "    </tr>\n",
       "  </thead>\n",
       "  <tbody>\n",
       "    <tr>\n",
       "      <th>April</th>\n",
       "      <td>5</td>\n",
       "      <td>0</td>\n",
       "      <td>446</td>\n",
       "      <td>85</td>\n",
       "    </tr>\n",
       "    <tr>\n",
       "      <th>February</th>\n",
       "      <td>0</td>\n",
       "      <td>0</td>\n",
       "      <td>322</td>\n",
       "      <td>61</td>\n",
       "    </tr>\n",
       "    <tr>\n",
       "      <th>January</th>\n",
       "      <td>0</td>\n",
       "      <td>0</td>\n",
       "      <td>177</td>\n",
       "      <td>26</td>\n",
       "    </tr>\n",
       "    <tr>\n",
       "      <th>July</th>\n",
       "      <td>12</td>\n",
       "      <td>0</td>\n",
       "      <td>629</td>\n",
       "      <td>15</td>\n",
       "    </tr>\n",
       "    <tr>\n",
       "      <th>June</th>\n",
       "      <td>30</td>\n",
       "      <td>1</td>\n",
       "      <td>584</td>\n",
       "      <td>13</td>\n",
       "    </tr>\n",
       "    <tr>\n",
       "      <th>March</th>\n",
       "      <td>0</td>\n",
       "      <td>0</td>\n",
       "      <td>272</td>\n",
       "      <td>119</td>\n",
       "    </tr>\n",
       "    <tr>\n",
       "      <th>May</th>\n",
       "      <td>8</td>\n",
       "      <td>1</td>\n",
       "      <td>472</td>\n",
       "      <td>62</td>\n",
       "    </tr>\n",
       "  </tbody>\n",
       "</table>\n",
       "</div>"
      ],
      "text/plain": [
       "customer_type       Contract  Group  Transient  Transient-Party\n",
       "arrival_date_month                                             \n",
       "April                      5      0        446               85\n",
       "February                   0      0        322               61\n",
       "January                    0      0        177               26\n",
       "July                      12      0        629               15\n",
       "June                      30      1        584               13\n",
       "March                      0      0        272              119\n",
       "May                        8      1        472               62"
      ]
     },
     "execution_count": 37,
     "metadata": {},
     "output_type": "execute_result"
    }
   ],
   "source": [
    "pd.crosstab(data['arrival_date_month'], data['customer_type'])"
   ]
  },
  {
   "cell_type": "markdown",
   "id": "8898286c",
   "metadata": {},
   "source": [
    "Interpretation: Most transient visitors came during july while most groups arrived during May and June"
   ]
  },
  {
   "cell_type": "code",
   "execution_count": 38,
   "id": "7687485d",
   "metadata": {},
   "outputs": [],
   "source": [
    "tab2=pd.crosstab(data['arrival_date_month'], data['customer_type'])"
   ]
  },
  {
   "cell_type": "code",
   "execution_count": 39,
   "id": "4e513f7a",
   "metadata": {},
   "outputs": [],
   "source": [
    "table2 = sm.stats.Table(tab2)"
   ]
  },
  {
   "cell_type": "code",
   "execution_count": 40,
   "id": "eb933290",
   "metadata": {},
   "outputs": [
    {
     "data": {
      "text/html": [
       "<div>\n",
       "<style scoped>\n",
       "    .dataframe tbody tr th:only-of-type {\n",
       "        vertical-align: middle;\n",
       "    }\n",
       "\n",
       "    .dataframe tbody tr th {\n",
       "        vertical-align: top;\n",
       "    }\n",
       "\n",
       "    .dataframe thead th {\n",
       "        text-align: right;\n",
       "    }\n",
       "</style>\n",
       "<table border=\"1\" class=\"dataframe\">\n",
       "  <thead>\n",
       "    <tr style=\"text-align: right;\">\n",
       "      <th>customer_type</th>\n",
       "      <th>Contract</th>\n",
       "      <th>Group</th>\n",
       "      <th>Transient</th>\n",
       "      <th>Transient-Party</th>\n",
       "    </tr>\n",
       "    <tr>\n",
       "      <th>arrival_date_month</th>\n",
       "      <th></th>\n",
       "      <th></th>\n",
       "      <th></th>\n",
       "      <th></th>\n",
       "    </tr>\n",
       "  </thead>\n",
       "  <tbody>\n",
       "    <tr>\n",
       "      <th>April</th>\n",
       "      <td>-1.350048</td>\n",
       "      <td>-0.261232</td>\n",
       "      <td>-0.907754</td>\n",
       "      <td>3.053548</td>\n",
       "    </tr>\n",
       "    <tr>\n",
       "      <th>February</th>\n",
       "      <td>-2.350866</td>\n",
       "      <td>-0.023296</td>\n",
       "      <td>-0.615943</td>\n",
       "      <td>2.607738</td>\n",
       "    </tr>\n",
       "    <tr>\n",
       "      <th>January</th>\n",
       "      <td>-1.587231</td>\n",
       "      <td>0.430345</td>\n",
       "      <td>-0.002697</td>\n",
       "      <td>0.571900</td>\n",
       "    </tr>\n",
       "    <tr>\n",
       "      <th>July</th>\n",
       "      <td>0.272578</td>\n",
       "      <td>-0.407958</td>\n",
       "      <td>2.483321</td>\n",
       "      <td>-6.914237</td>\n",
       "    </tr>\n",
       "    <tr>\n",
       "      <th>June</th>\n",
       "      <td>5.952404</td>\n",
       "      <td>0.168504</td>\n",
       "      <td>1.670895</td>\n",
       "      <td>-6.921949</td>\n",
       "    </tr>\n",
       "    <tr>\n",
       "      <th>March</th>\n",
       "      <td>-2.379275</td>\n",
       "      <td>-0.037880</td>\n",
       "      <td>-3.696923</td>\n",
       "      <td>11.123322</td>\n",
       "    </tr>\n",
       "    <tr>\n",
       "      <th>May</th>\n",
       "      <td>-0.387756</td>\n",
       "      <td>0.315025</td>\n",
       "      <td>0.035569</td>\n",
       "      <td>0.016919</td>\n",
       "    </tr>\n",
       "  </tbody>\n",
       "</table>\n",
       "</div>"
      ],
      "text/plain": [
       "customer_type       Contract     Group  Transient  Transient-Party\n",
       "arrival_date_month                                                \n",
       "April              -1.350048 -0.261232  -0.907754         3.053548\n",
       "February           -2.350866 -0.023296  -0.615943         2.607738\n",
       "January            -1.587231  0.430345  -0.002697         0.571900\n",
       "July                0.272578 -0.407958   2.483321        -6.914237\n",
       "June                5.952404  0.168504   1.670895        -6.921949\n",
       "March              -2.379275 -0.037880  -3.696923        11.123322\n",
       "May                -0.387756  0.315025   0.035569         0.016919"
      ]
     },
     "execution_count": 40,
     "metadata": {},
     "output_type": "execute_result"
    }
   ],
   "source": [
    "table2.resid_pearson"
   ]
  },
  {
   "cell_type": "code",
   "execution_count": 41,
   "id": "1379b4ca",
   "metadata": {},
   "outputs": [],
   "source": [
    "rslt2 = table2.test_nominal_association()"
   ]
  },
  {
   "cell_type": "code",
   "execution_count": 42,
   "id": "7d8a5848",
   "metadata": {},
   "outputs": [
    {
     "name": "stdout",
     "output_type": "stream",
     "text": [
      "0.0\n"
     ]
    }
   ],
   "source": [
    "print(rslt2.pvalue)"
   ]
  },
  {
   "cell_type": "markdown",
   "id": "035447c1",
   "metadata": {},
   "source": [
    "Interpretation: After computing the residuals and the p-value we can conclude that there is a relationship (as p-value is = 0.0 which is less than 0.05)"
   ]
  },
  {
   "cell_type": "code",
   "execution_count": 43,
   "id": "598104d1",
   "metadata": {},
   "outputs": [
    {
     "data": {
      "text/html": [
       "<div>\n",
       "<style scoped>\n",
       "    .dataframe tbody tr th:only-of-type {\n",
       "        vertical-align: middle;\n",
       "    }\n",
       "\n",
       "    .dataframe tbody tr th {\n",
       "        vertical-align: top;\n",
       "    }\n",
       "\n",
       "    .dataframe thead th {\n",
       "        text-align: right;\n",
       "    }\n",
       "</style>\n",
       "<table border=\"1\" class=\"dataframe\">\n",
       "  <thead>\n",
       "    <tr style=\"text-align: right;\">\n",
       "      <th>customer_type</th>\n",
       "      <th>Contract</th>\n",
       "      <th>Group</th>\n",
       "      <th>Transient</th>\n",
       "      <th>Transient-Party</th>\n",
       "    </tr>\n",
       "    <tr>\n",
       "      <th>country</th>\n",
       "      <th></th>\n",
       "      <th></th>\n",
       "      <th></th>\n",
       "      <th></th>\n",
       "    </tr>\n",
       "  </thead>\n",
       "  <tbody>\n",
       "    <tr>\n",
       "      <th>AGO</th>\n",
       "      <td>0</td>\n",
       "      <td>0</td>\n",
       "      <td>2</td>\n",
       "      <td>0</td>\n",
       "    </tr>\n",
       "    <tr>\n",
       "      <th>ARE</th>\n",
       "      <td>0</td>\n",
       "      <td>0</td>\n",
       "      <td>4</td>\n",
       "      <td>0</td>\n",
       "    </tr>\n",
       "    <tr>\n",
       "      <th>ARG</th>\n",
       "      <td>0</td>\n",
       "      <td>0</td>\n",
       "      <td>2</td>\n",
       "      <td>0</td>\n",
       "    </tr>\n",
       "    <tr>\n",
       "      <th>AUS</th>\n",
       "      <td>0</td>\n",
       "      <td>0</td>\n",
       "      <td>13</td>\n",
       "      <td>0</td>\n",
       "    </tr>\n",
       "    <tr>\n",
       "      <th>AUT</th>\n",
       "      <td>0</td>\n",
       "      <td>0</td>\n",
       "      <td>8</td>\n",
       "      <td>0</td>\n",
       "    </tr>\n",
       "    <tr>\n",
       "      <th>BEL</th>\n",
       "      <td>0</td>\n",
       "      <td>0</td>\n",
       "      <td>25</td>\n",
       "      <td>2</td>\n",
       "    </tr>\n",
       "    <tr>\n",
       "      <th>BRA</th>\n",
       "      <td>0</td>\n",
       "      <td>0</td>\n",
       "      <td>49</td>\n",
       "      <td>2</td>\n",
       "    </tr>\n",
       "    <tr>\n",
       "      <th>CHE</th>\n",
       "      <td>0</td>\n",
       "      <td>0</td>\n",
       "      <td>63</td>\n",
       "      <td>3</td>\n",
       "    </tr>\n",
       "    <tr>\n",
       "      <th>CHL</th>\n",
       "      <td>0</td>\n",
       "      <td>0</td>\n",
       "      <td>2</td>\n",
       "      <td>0</td>\n",
       "    </tr>\n",
       "    <tr>\n",
       "      <th>CHN</th>\n",
       "      <td>0</td>\n",
       "      <td>0</td>\n",
       "      <td>7</td>\n",
       "      <td>0</td>\n",
       "    </tr>\n",
       "    <tr>\n",
       "      <th>CN</th>\n",
       "      <td>0</td>\n",
       "      <td>0</td>\n",
       "      <td>52</td>\n",
       "      <td>0</td>\n",
       "    </tr>\n",
       "    <tr>\n",
       "      <th>COL</th>\n",
       "      <td>0</td>\n",
       "      <td>0</td>\n",
       "      <td>2</td>\n",
       "      <td>0</td>\n",
       "    </tr>\n",
       "    <tr>\n",
       "      <th>CYP</th>\n",
       "      <td>0</td>\n",
       "      <td>0</td>\n",
       "      <td>1</td>\n",
       "      <td>0</td>\n",
       "    </tr>\n",
       "    <tr>\n",
       "      <th>DEU</th>\n",
       "      <td>0</td>\n",
       "      <td>0</td>\n",
       "      <td>74</td>\n",
       "      <td>0</td>\n",
       "    </tr>\n",
       "    <tr>\n",
       "      <th>DNK</th>\n",
       "      <td>0</td>\n",
       "      <td>0</td>\n",
       "      <td>4</td>\n",
       "      <td>0</td>\n",
       "    </tr>\n",
       "    <tr>\n",
       "      <th>DZA</th>\n",
       "      <td>0</td>\n",
       "      <td>0</td>\n",
       "      <td>1</td>\n",
       "      <td>0</td>\n",
       "    </tr>\n",
       "    <tr>\n",
       "      <th>ESP</th>\n",
       "      <td>0</td>\n",
       "      <td>0</td>\n",
       "      <td>290</td>\n",
       "      <td>0</td>\n",
       "    </tr>\n",
       "    <tr>\n",
       "      <th>EST</th>\n",
       "      <td>0</td>\n",
       "      <td>0</td>\n",
       "      <td>3</td>\n",
       "      <td>0</td>\n",
       "    </tr>\n",
       "    <tr>\n",
       "      <th>FIN</th>\n",
       "      <td>0</td>\n",
       "      <td>0</td>\n",
       "      <td>9</td>\n",
       "      <td>0</td>\n",
       "    </tr>\n",
       "    <tr>\n",
       "      <th>FJI</th>\n",
       "      <td>0</td>\n",
       "      <td>0</td>\n",
       "      <td>1</td>\n",
       "      <td>0</td>\n",
       "    </tr>\n",
       "    <tr>\n",
       "      <th>FRA</th>\n",
       "      <td>0</td>\n",
       "      <td>0</td>\n",
       "      <td>105</td>\n",
       "      <td>0</td>\n",
       "    </tr>\n",
       "    <tr>\n",
       "      <th>GBR</th>\n",
       "      <td>0</td>\n",
       "      <td>0</td>\n",
       "      <td>428</td>\n",
       "      <td>16</td>\n",
       "    </tr>\n",
       "    <tr>\n",
       "      <th>GIB</th>\n",
       "      <td>0</td>\n",
       "      <td>0</td>\n",
       "      <td>1</td>\n",
       "      <td>0</td>\n",
       "    </tr>\n",
       "    <tr>\n",
       "      <th>HKG</th>\n",
       "      <td>0</td>\n",
       "      <td>0</td>\n",
       "      <td>1</td>\n",
       "      <td>0</td>\n",
       "    </tr>\n",
       "    <tr>\n",
       "      <th>HRV</th>\n",
       "      <td>0</td>\n",
       "      <td>0</td>\n",
       "      <td>2</td>\n",
       "      <td>0</td>\n",
       "    </tr>\n",
       "    <tr>\n",
       "      <th>HUN</th>\n",
       "      <td>0</td>\n",
       "      <td>0</td>\n",
       "      <td>7</td>\n",
       "      <td>0</td>\n",
       "    </tr>\n",
       "    <tr>\n",
       "      <th>IDN</th>\n",
       "      <td>0</td>\n",
       "      <td>0</td>\n",
       "      <td>2</td>\n",
       "      <td>0</td>\n",
       "    </tr>\n",
       "    <tr>\n",
       "      <th>IRL</th>\n",
       "      <td>0</td>\n",
       "      <td>0</td>\n",
       "      <td>212</td>\n",
       "      <td>9</td>\n",
       "    </tr>\n",
       "    <tr>\n",
       "      <th>ISR</th>\n",
       "      <td>0</td>\n",
       "      <td>0</td>\n",
       "      <td>8</td>\n",
       "      <td>0</td>\n",
       "    </tr>\n",
       "    <tr>\n",
       "      <th>ITA</th>\n",
       "      <td>0</td>\n",
       "      <td>0</td>\n",
       "      <td>29</td>\n",
       "      <td>3</td>\n",
       "    </tr>\n",
       "    <tr>\n",
       "      <th>KAZ</th>\n",
       "      <td>0</td>\n",
       "      <td>0</td>\n",
       "      <td>1</td>\n",
       "      <td>0</td>\n",
       "    </tr>\n",
       "    <tr>\n",
       "      <th>KOR</th>\n",
       "      <td>0</td>\n",
       "      <td>0</td>\n",
       "      <td>3</td>\n",
       "      <td>0</td>\n",
       "    </tr>\n",
       "    <tr>\n",
       "      <th>LBN</th>\n",
       "      <td>0</td>\n",
       "      <td>0</td>\n",
       "      <td>2</td>\n",
       "      <td>0</td>\n",
       "    </tr>\n",
       "    <tr>\n",
       "      <th>LTU</th>\n",
       "      <td>0</td>\n",
       "      <td>0</td>\n",
       "      <td>1</td>\n",
       "      <td>0</td>\n",
       "    </tr>\n",
       "    <tr>\n",
       "      <th>LUX</th>\n",
       "      <td>0</td>\n",
       "      <td>0</td>\n",
       "      <td>8</td>\n",
       "      <td>0</td>\n",
       "    </tr>\n",
       "    <tr>\n",
       "      <th>LVA</th>\n",
       "      <td>0</td>\n",
       "      <td>0</td>\n",
       "      <td>2</td>\n",
       "      <td>0</td>\n",
       "    </tr>\n",
       "    <tr>\n",
       "      <th>MAR</th>\n",
       "      <td>0</td>\n",
       "      <td>0</td>\n",
       "      <td>9</td>\n",
       "      <td>0</td>\n",
       "    </tr>\n",
       "    <tr>\n",
       "      <th>MDV</th>\n",
       "      <td>0</td>\n",
       "      <td>0</td>\n",
       "      <td>4</td>\n",
       "      <td>0</td>\n",
       "    </tr>\n",
       "    <tr>\n",
       "      <th>MOZ</th>\n",
       "      <td>0</td>\n",
       "      <td>0</td>\n",
       "      <td>1</td>\n",
       "      <td>0</td>\n",
       "    </tr>\n",
       "    <tr>\n",
       "      <th>NGA</th>\n",
       "      <td>0</td>\n",
       "      <td>0</td>\n",
       "      <td>2</td>\n",
       "      <td>0</td>\n",
       "    </tr>\n",
       "    <tr>\n",
       "      <th>NLD</th>\n",
       "      <td>0</td>\n",
       "      <td>0</td>\n",
       "      <td>33</td>\n",
       "      <td>1</td>\n",
       "    </tr>\n",
       "    <tr>\n",
       "      <th>NOR</th>\n",
       "      <td>0</td>\n",
       "      <td>0</td>\n",
       "      <td>15</td>\n",
       "      <td>3</td>\n",
       "    </tr>\n",
       "    <tr>\n",
       "      <th>PAK</th>\n",
       "      <td>0</td>\n",
       "      <td>0</td>\n",
       "      <td>2</td>\n",
       "      <td>0</td>\n",
       "    </tr>\n",
       "    <tr>\n",
       "      <th>PHL</th>\n",
       "      <td>0</td>\n",
       "      <td>0</td>\n",
       "      <td>1</td>\n",
       "      <td>0</td>\n",
       "    </tr>\n",
       "    <tr>\n",
       "      <th>POL</th>\n",
       "      <td>0</td>\n",
       "      <td>0</td>\n",
       "      <td>29</td>\n",
       "      <td>2</td>\n",
       "    </tr>\n",
       "    <tr>\n",
       "      <th>PRT</th>\n",
       "      <td>55</td>\n",
       "      <td>2</td>\n",
       "      <td>1270</td>\n",
       "      <td>335</td>\n",
       "    </tr>\n",
       "    <tr>\n",
       "      <th>ROU</th>\n",
       "      <td>0</td>\n",
       "      <td>0</td>\n",
       "      <td>18</td>\n",
       "      <td>0</td>\n",
       "    </tr>\n",
       "    <tr>\n",
       "      <th>RUS</th>\n",
       "      <td>0</td>\n",
       "      <td>0</td>\n",
       "      <td>33</td>\n",
       "      <td>5</td>\n",
       "    </tr>\n",
       "    <tr>\n",
       "      <th>SEN</th>\n",
       "      <td>0</td>\n",
       "      <td>0</td>\n",
       "      <td>1</td>\n",
       "      <td>0</td>\n",
       "    </tr>\n",
       "    <tr>\n",
       "      <th>SVK</th>\n",
       "      <td>0</td>\n",
       "      <td>0</td>\n",
       "      <td>3</td>\n",
       "      <td>0</td>\n",
       "    </tr>\n",
       "    <tr>\n",
       "      <th>SVN</th>\n",
       "      <td>0</td>\n",
       "      <td>0</td>\n",
       "      <td>1</td>\n",
       "      <td>0</td>\n",
       "    </tr>\n",
       "    <tr>\n",
       "      <th>SWE</th>\n",
       "      <td>0</td>\n",
       "      <td>0</td>\n",
       "      <td>13</td>\n",
       "      <td>0</td>\n",
       "    </tr>\n",
       "    <tr>\n",
       "      <th>SYC</th>\n",
       "      <td>0</td>\n",
       "      <td>0</td>\n",
       "      <td>1</td>\n",
       "      <td>0</td>\n",
       "    </tr>\n",
       "    <tr>\n",
       "      <th>TUR</th>\n",
       "      <td>0</td>\n",
       "      <td>0</td>\n",
       "      <td>1</td>\n",
       "      <td>0</td>\n",
       "    </tr>\n",
       "    <tr>\n",
       "      <th>URY</th>\n",
       "      <td>0</td>\n",
       "      <td>0</td>\n",
       "      <td>1</td>\n",
       "      <td>0</td>\n",
       "    </tr>\n",
       "    <tr>\n",
       "      <th>USA</th>\n",
       "      <td>0</td>\n",
       "      <td>0</td>\n",
       "      <td>32</td>\n",
       "      <td>0</td>\n",
       "    </tr>\n",
       "    <tr>\n",
       "      <th>VEN</th>\n",
       "      <td>0</td>\n",
       "      <td>0</td>\n",
       "      <td>1</td>\n",
       "      <td>0</td>\n",
       "    </tr>\n",
       "    <tr>\n",
       "      <th>ZAF</th>\n",
       "      <td>0</td>\n",
       "      <td>0</td>\n",
       "      <td>2</td>\n",
       "      <td>0</td>\n",
       "    </tr>\n",
       "  </tbody>\n",
       "</table>\n",
       "</div>"
      ],
      "text/plain": [
       "customer_type  Contract  Group  Transient  Transient-Party\n",
       "country                                                   \n",
       "AGO                   0      0          2                0\n",
       "ARE                   0      0          4                0\n",
       "ARG                   0      0          2                0\n",
       "AUS                   0      0         13                0\n",
       "AUT                   0      0          8                0\n",
       "BEL                   0      0         25                2\n",
       "BRA                   0      0         49                2\n",
       "CHE                   0      0         63                3\n",
       "CHL                   0      0          2                0\n",
       "CHN                   0      0          7                0\n",
       "CN                    0      0         52                0\n",
       "COL                   0      0          2                0\n",
       "CYP                   0      0          1                0\n",
       "DEU                   0      0         74                0\n",
       "DNK                   0      0          4                0\n",
       "DZA                   0      0          1                0\n",
       "ESP                   0      0        290                0\n",
       "EST                   0      0          3                0\n",
       "FIN                   0      0          9                0\n",
       "FJI                   0      0          1                0\n",
       "FRA                   0      0        105                0\n",
       "GBR                   0      0        428               16\n",
       "GIB                   0      0          1                0\n",
       "HKG                   0      0          1                0\n",
       "HRV                   0      0          2                0\n",
       "HUN                   0      0          7                0\n",
       "IDN                   0      0          2                0\n",
       "IRL                   0      0        212                9\n",
       "ISR                   0      0          8                0\n",
       "ITA                   0      0         29                3\n",
       "KAZ                   0      0          1                0\n",
       "KOR                   0      0          3                0\n",
       "LBN                   0      0          2                0\n",
       "LTU                   0      0          1                0\n",
       "LUX                   0      0          8                0\n",
       "LVA                   0      0          2                0\n",
       "MAR                   0      0          9                0\n",
       "MDV                   0      0          4                0\n",
       "MOZ                   0      0          1                0\n",
       "NGA                   0      0          2                0\n",
       "NLD                   0      0         33                1\n",
       "NOR                   0      0         15                3\n",
       "PAK                   0      0          2                0\n",
       "PHL                   0      0          1                0\n",
       "POL                   0      0         29                2\n",
       "PRT                  55      2       1270              335\n",
       "ROU                   0      0         18                0\n",
       "RUS                   0      0         33                5\n",
       "SEN                   0      0          1                0\n",
       "SVK                   0      0          3                0\n",
       "SVN                   0      0          1                0\n",
       "SWE                   0      0         13                0\n",
       "SYC                   0      0          1                0\n",
       "TUR                   0      0          1                0\n",
       "URY                   0      0          1                0\n",
       "USA                   0      0         32                0\n",
       "VEN                   0      0          1                0\n",
       "ZAF                   0      0          2                0"
      ]
     },
     "execution_count": 43,
     "metadata": {},
     "output_type": "execute_result"
    }
   ],
   "source": [
    "pd.crosstab(data['country'], data['customer_type'])"
   ]
  },
  {
   "cell_type": "markdown",
   "id": "3b4e0240",
   "metadata": {},
   "source": [
    "Interpretation: Most visitors came from the country PRT (Portugal)"
   ]
  },
  {
   "cell_type": "code",
   "execution_count": 44,
   "id": "6f5c7c0c",
   "metadata": {},
   "outputs": [],
   "source": [
    "tab3=pd.crosstab(data['country'], data['customer_type'])"
   ]
  },
  {
   "cell_type": "code",
   "execution_count": 45,
   "id": "9f302925",
   "metadata": {},
   "outputs": [],
   "source": [
    "table3 = sm.stats.Table(tab3)"
   ]
  },
  {
   "cell_type": "code",
   "execution_count": 46,
   "id": "8a14dbda",
   "metadata": {},
   "outputs": [
    {
     "data": {
      "text/html": [
       "<div>\n",
       "<style scoped>\n",
       "    .dataframe tbody tr th:only-of-type {\n",
       "        vertical-align: middle;\n",
       "    }\n",
       "\n",
       "    .dataframe tbody tr th {\n",
       "        vertical-align: top;\n",
       "    }\n",
       "\n",
       "    .dataframe thead th {\n",
       "        text-align: right;\n",
       "    }\n",
       "</style>\n",
       "<table border=\"1\" class=\"dataframe\">\n",
       "  <thead>\n",
       "    <tr style=\"text-align: right;\">\n",
       "      <th>customer_type</th>\n",
       "      <th>Contract</th>\n",
       "      <th>Group</th>\n",
       "      <th>Transient</th>\n",
       "      <th>Transient-Party</th>\n",
       "    </tr>\n",
       "    <tr>\n",
       "      <th>country</th>\n",
       "      <th></th>\n",
       "      <th></th>\n",
       "      <th></th>\n",
       "      <th></th>\n",
       "    </tr>\n",
       "  </thead>\n",
       "  <tbody>\n",
       "    <tr>\n",
       "      <th>AGO</th>\n",
       "      <td>1.416790</td>\n",
       "      <td>2.651430</td>\n",
       "      <td>-0.562206</td>\n",
       "      <td>0.132789</td>\n",
       "    </tr>\n",
       "    <tr>\n",
       "      <th>ARE</th>\n",
       "      <td>0.996866</td>\n",
       "      <td>2.034522</td>\n",
       "      <td>-0.307914</td>\n",
       "      <td>-0.187552</td>\n",
       "    </tr>\n",
       "    <tr>\n",
       "      <th>ARG</th>\n",
       "      <td>1.416790</td>\n",
       "      <td>2.651430</td>\n",
       "      <td>-0.562206</td>\n",
       "      <td>0.132789</td>\n",
       "    </tr>\n",
       "    <tr>\n",
       "      <th>AUS</th>\n",
       "      <td>0.244400</td>\n",
       "      <td>1.029677</td>\n",
       "      <td>0.199949</td>\n",
       "      <td>-0.928885</td>\n",
       "    </tr>\n",
       "    <tr>\n",
       "      <th>AUT</th>\n",
       "      <td>0.555586</td>\n",
       "      <td>1.425402</td>\n",
       "      <td>-0.020371</td>\n",
       "      <td>-0.589318</td>\n",
       "    </tr>\n",
       "    <tr>\n",
       "      <th>BEL</th>\n",
       "      <td>-0.223030</td>\n",
       "      <td>0.499890</td>\n",
       "      <td>0.256626</td>\n",
       "      <td>-0.722710</td>\n",
       "    </tr>\n",
       "    <tr>\n",
       "      <th>BRA</th>\n",
       "      <td>-0.684045</td>\n",
       "      <td>0.052311</td>\n",
       "      <td>0.736913</td>\n",
       "      <td>-1.675684</td>\n",
       "    </tr>\n",
       "    <tr>\n",
       "      <th>CHE</th>\n",
       "      <td>-0.889158</td>\n",
       "      <td>-0.127087</td>\n",
       "      <td>0.818616</td>\n",
       "      <td>-1.751882</td>\n",
       "    </tr>\n",
       "    <tr>\n",
       "      <th>CHL</th>\n",
       "      <td>1.416790</td>\n",
       "      <td>2.651430</td>\n",
       "      <td>-0.562206</td>\n",
       "      <td>0.132789</td>\n",
       "    </tr>\n",
       "    <tr>\n",
       "      <th>CHN</th>\n",
       "      <td>0.640989</td>\n",
       "      <td>1.539331</td>\n",
       "      <td>-0.078073</td>\n",
       "      <td>-0.504982</td>\n",
       "    </tr>\n",
       "    <tr>\n",
       "      <th>CN</th>\n",
       "      <td>-0.706453</td>\n",
       "      <td>0.032193</td>\n",
       "      <td>0.982986</td>\n",
       "      <td>-2.318512</td>\n",
       "    </tr>\n",
       "    <tr>\n",
       "      <th>COL</th>\n",
       "      <td>1.416790</td>\n",
       "      <td>2.651430</td>\n",
       "      <td>-0.562206</td>\n",
       "      <td>0.132789</td>\n",
       "    </tr>\n",
       "    <tr>\n",
       "      <th>CYP</th>\n",
       "      <td>1.775257</td>\n",
       "      <td>3.196981</td>\n",
       "      <td>-0.769462</td>\n",
       "      <td>0.374770</td>\n",
       "    </tr>\n",
       "    <tr>\n",
       "      <th>DEU</th>\n",
       "      <td>-0.990566</td>\n",
       "      <td>-0.212161</td>\n",
       "      <td>1.244813</td>\n",
       "      <td>-2.823026</td>\n",
       "    </tr>\n",
       "    <tr>\n",
       "      <th>DNK</th>\n",
       "      <td>0.996866</td>\n",
       "      <td>2.034522</td>\n",
       "      <td>-0.307914</td>\n",
       "      <td>-0.187552</td>\n",
       "    </tr>\n",
       "    <tr>\n",
       "      <th>DZA</th>\n",
       "      <td>1.775257</td>\n",
       "      <td>3.196981</td>\n",
       "      <td>-0.769462</td>\n",
       "      <td>0.374770</td>\n",
       "    </tr>\n",
       "    <tr>\n",
       "      <th>ESP</th>\n",
       "      <td>-2.482235</td>\n",
       "      <td>-1.303495</td>\n",
       "      <td>2.718881</td>\n",
       "      <td>-5.790491</td>\n",
       "    </tr>\n",
       "    <tr>\n",
       "      <th>EST</th>\n",
       "      <td>1.175784</td>\n",
       "      <td>2.293795</td>\n",
       "      <td>-0.418116</td>\n",
       "      <td>-0.045119</td>\n",
       "    </tr>\n",
       "    <tr>\n",
       "      <th>FIN</th>\n",
       "      <td>0.480215</td>\n",
       "      <td>1.326665</td>\n",
       "      <td>0.031493</td>\n",
       "      <td>-0.666756</td>\n",
       "    </tr>\n",
       "    <tr>\n",
       "      <th>FJI</th>\n",
       "      <td>1.775257</td>\n",
       "      <td>3.196981</td>\n",
       "      <td>-0.769462</td>\n",
       "      <td>0.374770</td>\n",
       "    </tr>\n",
       "    <tr>\n",
       "      <th>FRA</th>\n",
       "      <td>-1.303712</td>\n",
       "      <td>-0.462498</td>\n",
       "      <td>1.543247</td>\n",
       "      <td>-3.410673</td>\n",
       "    </tr>\n",
       "    <tr>\n",
       "      <th>GBR</th>\n",
       "      <td>-3.146754</td>\n",
       "      <td>-1.742615</td>\n",
       "      <td>2.602154</td>\n",
       "      <td>-5.055609</td>\n",
       "    </tr>\n",
       "    <tr>\n",
       "      <th>GIB</th>\n",
       "      <td>1.775257</td>\n",
       "      <td>3.196981</td>\n",
       "      <td>-0.769462</td>\n",
       "      <td>0.374770</td>\n",
       "    </tr>\n",
       "    <tr>\n",
       "      <th>HKG</th>\n",
       "      <td>1.775257</td>\n",
       "      <td>3.196981</td>\n",
       "      <td>-0.769462</td>\n",
       "      <td>0.374770</td>\n",
       "    </tr>\n",
       "    <tr>\n",
       "      <th>HRV</th>\n",
       "      <td>1.416790</td>\n",
       "      <td>2.651430</td>\n",
       "      <td>-0.562206</td>\n",
       "      <td>0.132789</td>\n",
       "    </tr>\n",
       "    <tr>\n",
       "      <th>HUN</th>\n",
       "      <td>0.640989</td>\n",
       "      <td>1.539331</td>\n",
       "      <td>-0.078073</td>\n",
       "      <td>-0.504982</td>\n",
       "    </tr>\n",
       "    <tr>\n",
       "      <th>IDN</th>\n",
       "      <td>1.416790</td>\n",
       "      <td>2.651430</td>\n",
       "      <td>-0.562206</td>\n",
       "      <td>0.132789</td>\n",
       "    </tr>\n",
       "    <tr>\n",
       "      <th>IRL</th>\n",
       "      <td>-2.115037</td>\n",
       "      <td>-1.052873</td>\n",
       "      <td>1.727228</td>\n",
       "      <td>-3.372305</td>\n",
       "    </tr>\n",
       "    <tr>\n",
       "      <th>ISR</th>\n",
       "      <td>0.555586</td>\n",
       "      <td>1.425402</td>\n",
       "      <td>-0.020371</td>\n",
       "      <td>-0.589318</td>\n",
       "    </tr>\n",
       "    <tr>\n",
       "      <th>ITA</th>\n",
       "      <td>-0.341531</td>\n",
       "      <td>0.378215</td>\n",
       "      <td>0.190841</td>\n",
       "      <td>-0.459408</td>\n",
       "    </tr>\n",
       "    <tr>\n",
       "      <th>KAZ</th>\n",
       "      <td>1.775257</td>\n",
       "      <td>3.196981</td>\n",
       "      <td>-0.769462</td>\n",
       "      <td>0.374770</td>\n",
       "    </tr>\n",
       "    <tr>\n",
       "      <th>KOR</th>\n",
       "      <td>1.175784</td>\n",
       "      <td>2.293795</td>\n",
       "      <td>-0.418116</td>\n",
       "      <td>-0.045119</td>\n",
       "    </tr>\n",
       "    <tr>\n",
       "      <th>LBN</th>\n",
       "      <td>1.416790</td>\n",
       "      <td>2.651430</td>\n",
       "      <td>-0.562206</td>\n",
       "      <td>0.132789</td>\n",
       "    </tr>\n",
       "    <tr>\n",
       "      <th>LTU</th>\n",
       "      <td>1.775257</td>\n",
       "      <td>3.196981</td>\n",
       "      <td>-0.769462</td>\n",
       "      <td>0.374770</td>\n",
       "    </tr>\n",
       "    <tr>\n",
       "      <th>LUX</th>\n",
       "      <td>0.555586</td>\n",
       "      <td>1.425402</td>\n",
       "      <td>-0.020371</td>\n",
       "      <td>-0.589318</td>\n",
       "    </tr>\n",
       "    <tr>\n",
       "      <th>LVA</th>\n",
       "      <td>1.416790</td>\n",
       "      <td>2.651430</td>\n",
       "      <td>-0.562206</td>\n",
       "      <td>0.132789</td>\n",
       "    </tr>\n",
       "    <tr>\n",
       "      <th>MAR</th>\n",
       "      <td>0.480215</td>\n",
       "      <td>1.326665</td>\n",
       "      <td>0.031493</td>\n",
       "      <td>-0.666756</td>\n",
       "    </tr>\n",
       "    <tr>\n",
       "      <th>MDV</th>\n",
       "      <td>0.996866</td>\n",
       "      <td>2.034522</td>\n",
       "      <td>-0.307914</td>\n",
       "      <td>-0.187552</td>\n",
       "    </tr>\n",
       "    <tr>\n",
       "      <th>MOZ</th>\n",
       "      <td>1.775257</td>\n",
       "      <td>3.196981</td>\n",
       "      <td>-0.769462</td>\n",
       "      <td>0.374770</td>\n",
       "    </tr>\n",
       "    <tr>\n",
       "      <th>NGA</th>\n",
       "      <td>1.416790</td>\n",
       "      <td>2.651430</td>\n",
       "      <td>-0.562206</td>\n",
       "      <td>0.132789</td>\n",
       "    </tr>\n",
       "    <tr>\n",
       "      <th>NLD</th>\n",
       "      <td>-0.384488</td>\n",
       "      <td>0.335304</td>\n",
       "      <td>0.608102</td>\n",
       "      <td>-1.544773</td>\n",
       "    </tr>\n",
       "    <tr>\n",
       "      <th>NOR</th>\n",
       "      <td>0.052088</td>\n",
       "      <td>0.801958</td>\n",
       "      <td>-0.277910</td>\n",
       "      <td>0.499858</td>\n",
       "    </tr>\n",
       "    <tr>\n",
       "      <th>PAK</th>\n",
       "      <td>1.416790</td>\n",
       "      <td>2.651430</td>\n",
       "      <td>-0.562206</td>\n",
       "      <td>0.132789</td>\n",
       "    </tr>\n",
       "    <tr>\n",
       "      <th>PHL</th>\n",
       "      <td>1.775257</td>\n",
       "      <td>3.196981</td>\n",
       "      <td>-0.769462</td>\n",
       "      <td>0.374770</td>\n",
       "    </tr>\n",
       "    <tr>\n",
       "      <th>POL</th>\n",
       "      <td>-0.319186</td>\n",
       "      <td>0.400784</td>\n",
       "      <td>0.356607</td>\n",
       "      <td>-0.919376</td>\n",
       "    </tr>\n",
       "    <tr>\n",
       "      <th>PRT</th>\n",
       "      <td>2.254129</td>\n",
       "      <td>-3.333313</td>\n",
       "      <td>-3.720651</td>\n",
       "      <td>9.848282</td>\n",
       "    </tr>\n",
       "    <tr>\n",
       "      <th>ROU</th>\n",
       "      <td>0.033712</td>\n",
       "      <td>0.780910</td>\n",
       "      <td>0.359058</td>\n",
       "      <td>-1.190652</td>\n",
       "    </tr>\n",
       "    <tr>\n",
       "      <th>RUS</th>\n",
       "      <td>-0.464385</td>\n",
       "      <td>0.257116</td>\n",
       "      <td>-0.013821</td>\n",
       "      <td>0.177375</td>\n",
       "    </tr>\n",
       "    <tr>\n",
       "      <th>SEN</th>\n",
       "      <td>1.775257</td>\n",
       "      <td>3.196981</td>\n",
       "      <td>-0.769462</td>\n",
       "      <td>0.374770</td>\n",
       "    </tr>\n",
       "    <tr>\n",
       "      <th>SVK</th>\n",
       "      <td>1.175784</td>\n",
       "      <td>2.293795</td>\n",
       "      <td>-0.418116</td>\n",
       "      <td>-0.045119</td>\n",
       "    </tr>\n",
       "    <tr>\n",
       "      <th>SVN</th>\n",
       "      <td>1.775257</td>\n",
       "      <td>3.196981</td>\n",
       "      <td>-0.769462</td>\n",
       "      <td>0.374770</td>\n",
       "    </tr>\n",
       "    <tr>\n",
       "      <th>SWE</th>\n",
       "      <td>0.244400</td>\n",
       "      <td>1.029677</td>\n",
       "      <td>0.199949</td>\n",
       "      <td>-0.928885</td>\n",
       "    </tr>\n",
       "    <tr>\n",
       "      <th>SYC</th>\n",
       "      <td>1.775257</td>\n",
       "      <td>3.196981</td>\n",
       "      <td>-0.769462</td>\n",
       "      <td>0.374770</td>\n",
       "    </tr>\n",
       "    <tr>\n",
       "      <th>TUR</th>\n",
       "      <td>1.775257</td>\n",
       "      <td>3.196981</td>\n",
       "      <td>-0.769462</td>\n",
       "      <td>0.374770</td>\n",
       "    </tr>\n",
       "    <tr>\n",
       "      <th>URY</th>\n",
       "      <td>1.775257</td>\n",
       "      <td>3.196981</td>\n",
       "      <td>-0.769462</td>\n",
       "      <td>0.374770</td>\n",
       "    </tr>\n",
       "    <tr>\n",
       "      <th>USA</th>\n",
       "      <td>-0.352480</td>\n",
       "      <td>0.367219</td>\n",
       "      <td>0.672649</td>\n",
       "      <td>-1.740816</td>\n",
       "    </tr>\n",
       "    <tr>\n",
       "      <th>VEN</th>\n",
       "      <td>1.775257</td>\n",
       "      <td>3.196981</td>\n",
       "      <td>-0.769462</td>\n",
       "      <td>0.374770</td>\n",
       "    </tr>\n",
       "    <tr>\n",
       "      <th>ZAF</th>\n",
       "      <td>1.416790</td>\n",
       "      <td>2.651430</td>\n",
       "      <td>-0.562206</td>\n",
       "      <td>0.132789</td>\n",
       "    </tr>\n",
       "  </tbody>\n",
       "</table>\n",
       "</div>"
      ],
      "text/plain": [
       "customer_type  Contract     Group  Transient  Transient-Party\n",
       "country                                                      \n",
       "AGO            1.416790  2.651430  -0.562206         0.132789\n",
       "ARE            0.996866  2.034522  -0.307914        -0.187552\n",
       "ARG            1.416790  2.651430  -0.562206         0.132789\n",
       "AUS            0.244400  1.029677   0.199949        -0.928885\n",
       "AUT            0.555586  1.425402  -0.020371        -0.589318\n",
       "BEL           -0.223030  0.499890   0.256626        -0.722710\n",
       "BRA           -0.684045  0.052311   0.736913        -1.675684\n",
       "CHE           -0.889158 -0.127087   0.818616        -1.751882\n",
       "CHL            1.416790  2.651430  -0.562206         0.132789\n",
       "CHN            0.640989  1.539331  -0.078073        -0.504982\n",
       "CN            -0.706453  0.032193   0.982986        -2.318512\n",
       "COL            1.416790  2.651430  -0.562206         0.132789\n",
       "CYP            1.775257  3.196981  -0.769462         0.374770\n",
       "DEU           -0.990566 -0.212161   1.244813        -2.823026\n",
       "DNK            0.996866  2.034522  -0.307914        -0.187552\n",
       "DZA            1.775257  3.196981  -0.769462         0.374770\n",
       "ESP           -2.482235 -1.303495   2.718881        -5.790491\n",
       "EST            1.175784  2.293795  -0.418116        -0.045119\n",
       "FIN            0.480215  1.326665   0.031493        -0.666756\n",
       "FJI            1.775257  3.196981  -0.769462         0.374770\n",
       "FRA           -1.303712 -0.462498   1.543247        -3.410673\n",
       "GBR           -3.146754 -1.742615   2.602154        -5.055609\n",
       "GIB            1.775257  3.196981  -0.769462         0.374770\n",
       "HKG            1.775257  3.196981  -0.769462         0.374770\n",
       "HRV            1.416790  2.651430  -0.562206         0.132789\n",
       "HUN            0.640989  1.539331  -0.078073        -0.504982\n",
       "IDN            1.416790  2.651430  -0.562206         0.132789\n",
       "IRL           -2.115037 -1.052873   1.727228        -3.372305\n",
       "ISR            0.555586  1.425402  -0.020371        -0.589318\n",
       "ITA           -0.341531  0.378215   0.190841        -0.459408\n",
       "KAZ            1.775257  3.196981  -0.769462         0.374770\n",
       "KOR            1.175784  2.293795  -0.418116        -0.045119\n",
       "LBN            1.416790  2.651430  -0.562206         0.132789\n",
       "LTU            1.775257  3.196981  -0.769462         0.374770\n",
       "LUX            0.555586  1.425402  -0.020371        -0.589318\n",
       "LVA            1.416790  2.651430  -0.562206         0.132789\n",
       "MAR            0.480215  1.326665   0.031493        -0.666756\n",
       "MDV            0.996866  2.034522  -0.307914        -0.187552\n",
       "MOZ            1.775257  3.196981  -0.769462         0.374770\n",
       "NGA            1.416790  2.651430  -0.562206         0.132789\n",
       "NLD           -0.384488  0.335304   0.608102        -1.544773\n",
       "NOR            0.052088  0.801958  -0.277910         0.499858\n",
       "PAK            1.416790  2.651430  -0.562206         0.132789\n",
       "PHL            1.775257  3.196981  -0.769462         0.374770\n",
       "POL           -0.319186  0.400784   0.356607        -0.919376\n",
       "PRT            2.254129 -3.333313  -3.720651         9.848282\n",
       "ROU            0.033712  0.780910   0.359058        -1.190652\n",
       "RUS           -0.464385  0.257116  -0.013821         0.177375\n",
       "SEN            1.775257  3.196981  -0.769462         0.374770\n",
       "SVK            1.175784  2.293795  -0.418116        -0.045119\n",
       "SVN            1.775257  3.196981  -0.769462         0.374770\n",
       "SWE            0.244400  1.029677   0.199949        -0.928885\n",
       "SYC            1.775257  3.196981  -0.769462         0.374770\n",
       "TUR            1.775257  3.196981  -0.769462         0.374770\n",
       "URY            1.775257  3.196981  -0.769462         0.374770\n",
       "USA           -0.352480  0.367219   0.672649        -1.740816\n",
       "VEN            1.775257  3.196981  -0.769462         0.374770\n",
       "ZAF            1.416790  2.651430  -0.562206         0.132789"
      ]
     },
     "execution_count": 46,
     "metadata": {},
     "output_type": "execute_result"
    }
   ],
   "source": [
    "table3.resid_pearson"
   ]
  },
  {
   "cell_type": "code",
   "execution_count": 47,
   "id": "448ed41d",
   "metadata": {},
   "outputs": [],
   "source": [
    "rslt3 = table3.test_nominal_association()"
   ]
  },
  {
   "cell_type": "code",
   "execution_count": 48,
   "id": "6f07224e",
   "metadata": {},
   "outputs": [
    {
     "name": "stdout",
     "output_type": "stream",
     "text": [
      "0.0\n"
     ]
    }
   ],
   "source": [
    "print(rslt3.pvalue)"
   ]
  },
  {
   "cell_type": "markdown",
   "id": "856439d1",
   "metadata": {},
   "source": [
    "Interpretation: After computing the residuals and the p-value we can conclude that there is a relationship (as p-value is = 0.0 which is less than 0.05)"
   ]
  },
  {
   "cell_type": "code",
   "execution_count": 49,
   "id": "ed415392",
   "metadata": {},
   "outputs": [
    {
     "data": {
      "text/html": [
       "<div>\n",
       "<style scoped>\n",
       "    .dataframe tbody tr th:only-of-type {\n",
       "        vertical-align: middle;\n",
       "    }\n",
       "\n",
       "    .dataframe tbody tr th {\n",
       "        vertical-align: top;\n",
       "    }\n",
       "\n",
       "    .dataframe thead th {\n",
       "        text-align: right;\n",
       "    }\n",
       "</style>\n",
       "<table border=\"1\" class=\"dataframe\">\n",
       "  <thead>\n",
       "    <tr style=\"text-align: right;\">\n",
       "      <th>reserved_room_type</th>\n",
       "      <th>A</th>\n",
       "      <th>C</th>\n",
       "      <th>D</th>\n",
       "      <th>E</th>\n",
       "      <th>F</th>\n",
       "      <th>G</th>\n",
       "      <th>H</th>\n",
       "    </tr>\n",
       "    <tr>\n",
       "      <th>arrival_date_month</th>\n",
       "      <th></th>\n",
       "      <th></th>\n",
       "      <th></th>\n",
       "      <th></th>\n",
       "      <th></th>\n",
       "      <th></th>\n",
       "      <th></th>\n",
       "    </tr>\n",
       "  </thead>\n",
       "  <tbody>\n",
       "    <tr>\n",
       "      <th>April</th>\n",
       "      <td>231</td>\n",
       "      <td>26</td>\n",
       "      <td>117</td>\n",
       "      <td>105</td>\n",
       "      <td>3</td>\n",
       "      <td>41</td>\n",
       "      <td>13</td>\n",
       "    </tr>\n",
       "    <tr>\n",
       "      <th>February</th>\n",
       "      <td>264</td>\n",
       "      <td>5</td>\n",
       "      <td>52</td>\n",
       "      <td>41</td>\n",
       "      <td>5</td>\n",
       "      <td>11</td>\n",
       "      <td>5</td>\n",
       "    </tr>\n",
       "    <tr>\n",
       "      <th>January</th>\n",
       "      <td>138</td>\n",
       "      <td>0</td>\n",
       "      <td>23</td>\n",
       "      <td>19</td>\n",
       "      <td>3</td>\n",
       "      <td>14</td>\n",
       "      <td>6</td>\n",
       "    </tr>\n",
       "    <tr>\n",
       "      <th>July</th>\n",
       "      <td>230</td>\n",
       "      <td>47</td>\n",
       "      <td>150</td>\n",
       "      <td>117</td>\n",
       "      <td>17</td>\n",
       "      <td>63</td>\n",
       "      <td>32</td>\n",
       "    </tr>\n",
       "    <tr>\n",
       "      <th>June</th>\n",
       "      <td>324</td>\n",
       "      <td>45</td>\n",
       "      <td>98</td>\n",
       "      <td>81</td>\n",
       "      <td>20</td>\n",
       "      <td>48</td>\n",
       "      <td>12</td>\n",
       "    </tr>\n",
       "    <tr>\n",
       "      <th>March</th>\n",
       "      <td>233</td>\n",
       "      <td>4</td>\n",
       "      <td>76</td>\n",
       "      <td>50</td>\n",
       "      <td>7</td>\n",
       "      <td>19</td>\n",
       "      <td>2</td>\n",
       "    </tr>\n",
       "    <tr>\n",
       "      <th>May</th>\n",
       "      <td>289</td>\n",
       "      <td>26</td>\n",
       "      <td>90</td>\n",
       "      <td>84</td>\n",
       "      <td>5</td>\n",
       "      <td>38</td>\n",
       "      <td>11</td>\n",
       "    </tr>\n",
       "  </tbody>\n",
       "</table>\n",
       "</div>"
      ],
      "text/plain": [
       "reserved_room_type    A   C    D    E   F   G   H\n",
       "arrival_date_month                               \n",
       "April               231  26  117  105   3  41  13\n",
       "February            264   5   52   41   5  11   5\n",
       "January             138   0   23   19   3  14   6\n",
       "July                230  47  150  117  17  63  32\n",
       "June                324  45   98   81  20  48  12\n",
       "March               233   4   76   50   7  19   2\n",
       "May                 289  26   90   84   5  38  11"
      ]
     },
     "execution_count": 49,
     "metadata": {},
     "output_type": "execute_result"
    }
   ],
   "source": [
    "pd.crosstab(data['arrival_date_month'], data['reserved_room_type'])"
   ]
  },
  {
   "cell_type": "markdown",
   "id": "d7c1863c",
   "metadata": {},
   "source": [
    "Interpretation: Most rooms were highest in demands during June and July"
   ]
  },
  {
   "cell_type": "code",
   "execution_count": 50,
   "id": "da55413c",
   "metadata": {},
   "outputs": [],
   "source": [
    "tab4=pd.crosstab(data['arrival_date_month'], data['reserved_room_type'])"
   ]
  },
  {
   "cell_type": "code",
   "execution_count": 51,
   "id": "00ac5e5a",
   "metadata": {},
   "outputs": [],
   "source": [
    "table4 = sm.stats.Table(tab4)"
   ]
  },
  {
   "cell_type": "code",
   "execution_count": 52,
   "id": "63675d7c",
   "metadata": {},
   "outputs": [
    {
     "data": {
      "text/html": [
       "<div>\n",
       "<style scoped>\n",
       "    .dataframe tbody tr th:only-of-type {\n",
       "        vertical-align: middle;\n",
       "    }\n",
       "\n",
       "    .dataframe tbody tr th {\n",
       "        vertical-align: top;\n",
       "    }\n",
       "\n",
       "    .dataframe thead th {\n",
       "        text-align: right;\n",
       "    }\n",
       "</style>\n",
       "<table border=\"1\" class=\"dataframe\">\n",
       "  <thead>\n",
       "    <tr style=\"text-align: right;\">\n",
       "      <th>reserved_room_type</th>\n",
       "      <th>A</th>\n",
       "      <th>C</th>\n",
       "      <th>D</th>\n",
       "      <th>E</th>\n",
       "      <th>F</th>\n",
       "      <th>G</th>\n",
       "      <th>H</th>\n",
       "    </tr>\n",
       "    <tr>\n",
       "      <th>arrival_date_month</th>\n",
       "      <th></th>\n",
       "      <th></th>\n",
       "      <th></th>\n",
       "      <th></th>\n",
       "      <th></th>\n",
       "      <th></th>\n",
       "      <th></th>\n",
       "    </tr>\n",
       "  </thead>\n",
       "  <tbody>\n",
       "    <tr>\n",
       "      <th>April</th>\n",
       "      <td>-2.609836</td>\n",
       "      <td>0.276082</td>\n",
       "      <td>2.004322</td>\n",
       "      <td>2.827957</td>\n",
       "      <td>-2.135917</td>\n",
       "      <td>0.563609</td>\n",
       "      <td>0.000872</td>\n",
       "    </tr>\n",
       "    <tr>\n",
       "      <th>February</th>\n",
       "      <td>4.861936</td>\n",
       "      <td>-3.003302</td>\n",
       "      <td>-2.097065</td>\n",
       "      <td>-2.117292</td>\n",
       "      <td>-0.716483</td>\n",
       "      <td>-3.055974</td>\n",
       "      <td>-1.406729</td>\n",
       "    </tr>\n",
       "    <tr>\n",
       "      <th>January</th>\n",
       "      <td>3.321362</td>\n",
       "      <td>-2.894444</td>\n",
       "      <td>-2.290502</td>\n",
       "      <td>-2.049413</td>\n",
       "      <td>-0.342675</td>\n",
       "      <td>-0.067553</td>\n",
       "      <td>0.479688</td>\n",
       "    </tr>\n",
       "    <tr>\n",
       "      <th>July</th>\n",
       "      <td>-5.764828</td>\n",
       "      <td>3.070113</td>\n",
       "      <td>2.841254</td>\n",
       "      <td>1.963734</td>\n",
       "      <td>1.519941</td>\n",
       "      <td>2.514833</td>\n",
       "      <td>4.035145</td>\n",
       "    </tr>\n",
       "    <tr>\n",
       "      <th>June</th>\n",
       "      <td>0.151478</td>\n",
       "      <td>3.005013</td>\n",
       "      <td>-1.492044</td>\n",
       "      <td>-1.286340</td>\n",
       "      <td>2.596446</td>\n",
       "      <td>0.604438</td>\n",
       "      <td>-0.827125</td>\n",
       "    </tr>\n",
       "    <tr>\n",
       "      <th>March</th>\n",
       "      <td>2.330726</td>\n",
       "      <td>-3.295064</td>\n",
       "      <td>0.601836</td>\n",
       "      <td>-1.071574</td>\n",
       "      <td>-0.008642</td>\n",
       "      <td>-1.603009</td>\n",
       "      <td>-2.429571</td>\n",
       "    </tr>\n",
       "    <tr>\n",
       "      <th>May</th>\n",
       "      <td>0.672045</td>\n",
       "      <td>0.209903</td>\n",
       "      <td>-0.856989</td>\n",
       "      <td>0.357401</td>\n",
       "      <td>-1.521952</td>\n",
       "      <td>-0.005970</td>\n",
       "      <td>-0.597091</td>\n",
       "    </tr>\n",
       "  </tbody>\n",
       "</table>\n",
       "</div>"
      ],
      "text/plain": [
       "reserved_room_type         A         C         D         E         F  \\\n",
       "arrival_date_month                                                     \n",
       "April              -2.609836  0.276082  2.004322  2.827957 -2.135917   \n",
       "February            4.861936 -3.003302 -2.097065 -2.117292 -0.716483   \n",
       "January             3.321362 -2.894444 -2.290502 -2.049413 -0.342675   \n",
       "July               -5.764828  3.070113  2.841254  1.963734  1.519941   \n",
       "June                0.151478  3.005013 -1.492044 -1.286340  2.596446   \n",
       "March               2.330726 -3.295064  0.601836 -1.071574 -0.008642   \n",
       "May                 0.672045  0.209903 -0.856989  0.357401 -1.521952   \n",
       "\n",
       "reserved_room_type         G         H  \n",
       "arrival_date_month                      \n",
       "April               0.563609  0.000872  \n",
       "February           -3.055974 -1.406729  \n",
       "January            -0.067553  0.479688  \n",
       "July                2.514833  4.035145  \n",
       "June                0.604438 -0.827125  \n",
       "March              -1.603009 -2.429571  \n",
       "May                -0.005970 -0.597091  "
      ]
     },
     "execution_count": 52,
     "metadata": {},
     "output_type": "execute_result"
    }
   ],
   "source": [
    "table4.resid_pearson"
   ]
  },
  {
   "cell_type": "code",
   "execution_count": 53,
   "id": "e80291ae",
   "metadata": {},
   "outputs": [],
   "source": [
    "rslt4 = table4.test_nominal_association()"
   ]
  },
  {
   "cell_type": "code",
   "execution_count": 54,
   "id": "dfe722ee",
   "metadata": {},
   "outputs": [
    {
     "name": "stdout",
     "output_type": "stream",
     "text": [
      "0.0\n"
     ]
    }
   ],
   "source": [
    "print(rslt4.pvalue)"
   ]
  },
  {
   "cell_type": "markdown",
   "id": "b0126f1c",
   "metadata": {},
   "source": [
    "Interpretation: After computing the residuals and the p-value we can conclude that there is a relationship (as p-value is = 0.0 which is less than 0.05)"
   ]
  },
  {
   "cell_type": "markdown",
   "id": "b5c11c39",
   "metadata": {},
   "source": [
    "Question5: Make graphs: density, bar plots, heatmaps, and mosaic plots"
   ]
  },
  {
   "cell_type": "code",
   "execution_count": 55,
   "id": "106862c1",
   "metadata": {},
   "outputs": [
    {
     "data": {
      "text/plain": [
       "<AxesSubplot:ylabel='Density'>"
      ]
     },
     "execution_count": 55,
     "metadata": {},
     "output_type": "execute_result"
    },
    {
     "data": {
      "image/png": "[encoded data removed]",
      "text/plain": [
       "<Figure size 432x288 with 1 Axes>"
      ]
     },
     "metadata": {
      "needs_background": "light"
     },
     "output_type": "display_data"
    }
   ],
   "source": [
    "data['adr'].plot(kind = 'density')"
   ]
  },
  {
   "cell_type": "markdown",
   "id": "fc143ca2",
   "metadata": {},
   "source": [
    "Interpretation: this is the density graph of adr. As previous interpretations suggest, the peak of the density graph is somewhere around 70 euros per night. We can see that the data is unimodal, suggesting a lack of range in terms of the adr. We can also see that there is a lack of frequency under 70 euros and a lot of rates higher than 70, suggesting a bias of the hotel toward increasing its prices, which makes sense financially."
   ]
  },
  {
   "cell_type": "code",
   "execution_count": 56,
   "id": "f9c9d6f3",
   "metadata": {},
   "outputs": [
    {
     "data": {
      "text/plain": [
       "<AxesSubplot:>"
      ]
     },
     "execution_count": 56,
     "metadata": {},
     "output_type": "execute_result"
    },
    {
     "data": {
      "image/png": "[encoded data removed]",
      "text/plain": [
       "<Figure size 432x288 with 1 Axes>"
      ]
     },
     "metadata": {
      "needs_background": "light"
     },
     "output_type": "display_data"
    }
   ],
   "source": [
    "data['reserved_room_type'].value_counts().plot(kind = 'bar')"
   ]
  },
  {
   "cell_type": "markdown",
   "id": "9088976f",
   "metadata": {},
   "source": [
    "Interpretation: this is a barplot graph of the different room types. It seems room type A was the most popular, followed by type D. Assuming A is most expensive and D is least expensive, this could mean most companies go for the expensive rooms and most non-company people go for the cheapest room. However, there does not seem to be a room type B, which could mean the room types don’t depend on price…"
   ]
  },
  {
   "cell_type": "code",
   "execution_count": 57,
   "id": "ea5697e7",
   "metadata": {},
   "outputs": [
    {
     "name": "stdout",
     "output_type": "stream",
     "text": [
      "Requirement already satisfied: matplotlib in c:\\programdata\\anaconda3\\lib\\site-packages (3.4.3)\n",
      "Requirement already satisfied: cycler>=0.10 in c:\\programdata\\anaconda3\\lib\\site-packages (from matplotlib) (0.10.0)\n",
      "Requirement already satisfied: numpy>=1.16 in c:\\programdata\\anaconda3\\lib\\site-packages (from matplotlib) (1.20.3)\n",
      "Requirement already satisfied: kiwisolver>=1.0.1 in c:\\programdata\\anaconda3\\lib\\site-packages (from matplotlib) (1.3.1)\n",
      "Requirement already satisfied: pyparsing>=2.2.1 in c:\\programdata\\anaconda3\\lib\\site-packages (from matplotlib) (3.0.4)\n",
      "Requirement already satisfied: python-dateutil>=2.7 in c:\\programdata\\anaconda3\\lib\\site-packages (from matplotlib) (2.8.2)\n",
      "Requirement already satisfied: pillow>=6.2.0 in c:\\programdata\\anaconda3\\lib\\site-packages (from matplotlib) (8.4.0)\n",
      "Requirement already satisfied: six in c:\\programdata\\anaconda3\\lib\\site-packages (from cycler>=0.10->matplotlib) (1.16.0)\n"
     ]
    }
   ],
   "source": [
    "!pip install matplotlib"
   ]
  },
  {
   "cell_type": "code",
   "execution_count": 59,
   "id": "efa0187b",
   "metadata": {},
   "outputs": [],
   "source": [
    "import matplotlib.pyplot as plt\n",
    "from statsmodels.graphics.mosaicplot import mosaic"
   ]
  },
  {
   "cell_type": "code",
   "execution_count": 67,
   "id": "2b3a199c",
   "metadata": {},
   "outputs": [
    {
     "data": {
      "image/png": "[encoded data removed]",
      "text/plain": [
       "<Figure size 432x288 with 3 Axes>"
      ]
     },
     "metadata": {
      "needs_background": "light"
     },
     "output_type": "display_data"
    }
   ],
   "source": [
    "mosaic(data, ['arrival_date_month', 'customer_type'], title=' Arrival Date Month x Customer Type ')\n",
    "plt.show()"
   ]
  },
  {
   "cell_type": "markdown",
   "id": "3943d305",
   "metadata": {},
   "source": [
    "Interpretation: this mosaic shows us some interesting things on the distribution of room types. Essentially, room A is always the most popular it seems, but its proportion varies across the months. These different proportions could mean different demands or different availabilities. For example, the different rooms could be in different demands across the first half of the year. The lowest proportion of room A is in July."
   ]
  },
  {
   "cell_type": "code",
   "execution_count": 68,
   "id": "a896e783",
   "metadata": {},
   "outputs": [
    {
     "data": {
      "image/png": "[encoded data removed]",
      "text/plain": [
       "<Figure size 432x288 with 3 Axes>"
      ]
     },
     "metadata": {
      "needs_background": "light"
     },
     "output_type": "display_data"
    }
   ],
   "source": [
    "mosaic(data, ['reservation_status', 'deposit_type'], title=' Reservation Status x Deposit Type ')\n",
    "plt.show()"
   ]
  },
  {
   "cell_type": "code",
   "execution_count": 61,
   "id": "facab4a1",
   "metadata": {},
   "outputs": [],
   "source": [
    "cormat=data[['adr','stays_in_week_nights','stays_in_weekend_nights']].corr().round(2)"
   ]
  },
  {
   "cell_type": "code",
   "execution_count": 62,
   "id": "e07361f1",
   "metadata": {},
   "outputs": [
    {
     "name": "stdout",
     "output_type": "stream",
     "text": [
      "Requirement already satisfied: seaborn in c:\\programdata\\anaconda3\\lib\\site-packages (0.11.2)\n",
      "Requirement already satisfied: pandas>=0.23 in c:\\programdata\\anaconda3\\lib\\site-packages (from seaborn) (1.3.4)\n",
      "Requirement already satisfied: numpy>=1.15 in c:\\programdata\\anaconda3\\lib\\site-packages (from seaborn) (1.20.3)\n",
      "Requirement already satisfied: matplotlib>=2.2 in c:\\programdata\\anaconda3\\lib\\site-packages (from seaborn) (3.4.3)\n",
      "Requirement already satisfied: scipy>=1.0 in c:\\programdata\\anaconda3\\lib\\site-packages (from seaborn) (1.7.1)\n",
      "Requirement already satisfied: python-dateutil>=2.7 in c:\\programdata\\anaconda3\\lib\\site-packages (from matplotlib>=2.2->seaborn) (2.8.2)\n",
      "Requirement already satisfied: kiwisolver>=1.0.1 in c:\\programdata\\anaconda3\\lib\\site-packages (from matplotlib>=2.2->seaborn) (1.3.1)\n",
      "Requirement already satisfied: cycler>=0.10 in c:\\programdata\\anaconda3\\lib\\site-packages (from matplotlib>=2.2->seaborn) (0.10.0)\n",
      "Requirement already satisfied: pillow>=6.2.0 in c:\\programdata\\anaconda3\\lib\\site-packages (from matplotlib>=2.2->seaborn) (8.4.0)\n",
      "Requirement already satisfied: pyparsing>=2.2.1 in c:\\programdata\\anaconda3\\lib\\site-packages (from matplotlib>=2.2->seaborn) (3.0.4)\n",
      "Requirement already satisfied: six in c:\\programdata\\anaconda3\\lib\\site-packages (from cycler>=0.10->matplotlib>=2.2->seaborn) (1.16.0)\n",
      "Requirement already satisfied: pytz>=2017.3 in c:\\programdata\\anaconda3\\lib\\site-packages (from pandas>=0.23->seaborn) (2021.3)\n"
     ]
    }
   ],
   "source": [
    "!pip install seaborn"
   ]
  },
  {
   "cell_type": "code",
   "execution_count": 63,
   "id": "055f0290",
   "metadata": {},
   "outputs": [],
   "source": [
    "import seaborn as sns "
   ]
  },
  {
   "cell_type": "code",
   "execution_count": 64,
   "id": "f972ca8f",
   "metadata": {},
   "outputs": [
    {
     "data": {
      "text/plain": [
       "<AxesSubplot:>"
      ]
     },
     "execution_count": 64,
     "metadata": {},
     "output_type": "execute_result"
    },
    {
     "data": {
      "image/png": "[encoded data removed]",
      "text/plain": [
       "<Figure size 432x288 with 2 Axes>"
      ]
     },
     "metadata": {
      "needs_background": "light"
     },
     "output_type": "display_data"
    }
   ],
   "source": [
    "sns.heatmap(cormat, annot=True)"
   ]
  },
  {
   "cell_type": "markdown",
   "id": "79ab44af",
   "metadata": {},
   "source": [
    "Interpretation: the heatmap shows a strong positive correlation between stay on weekends and weekdays (which makes sense) but a very very weak positive correlation between adr and weekdays and weeknights. This is to be expected as the daily rate of each night shouldn’t change much depending on weekend or weekday or this would make customers only book on certain days."
   ]
  }
 ],
 "metadata": {
  "kernelspec": {
   "display_name": "Python 3 (ipykernel)",
   "language": "python",
   "name": "python3"
  },
  "language_info": {
   "codemirror_mode": {
    "name": "ipython",
    "version": 3
   },
   "file_extension": ".py",
   "mimetype": "text/x-python",
   "name": "python",
   "nbconvert_exporter": "python",
   "pygments_lexer": "ipython3",
   "version": "3.9.7"
  }
 },
 "nbformat": 4,
 "nbformat_minor": 5
}
